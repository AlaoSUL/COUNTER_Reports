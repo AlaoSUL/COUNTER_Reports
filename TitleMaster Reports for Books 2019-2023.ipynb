{
 "cells": [
  {
   "cell_type": "code",
   "execution_count": 2,
   "id": "febaa158",
   "metadata": {},
   "outputs": [],
   "source": [
    "import pandas as pd\n",
    "import numpy as np"
   ]
  },
  {
   "cell_type": "markdown",
   "id": "a1f701d5",
   "metadata": {},
   "source": [
    "## Important Steps\n",
    "\n",
    "- Ensure publishers are standardized\n",
    "- Dates\n",
    "- Data_Type == Books\n",
    "- Metric_Type == \"Total_Item_Requests\" or \"Unique_Item_Requests\" \"Unique_Title_Requests\" or Total Chapter Requests (Springer & Tayler and Francis - custom metrics) "
   ]
  },
  {
   "cell_type": "markdown",
   "id": "a27c8379",
   "metadata": {},
   "source": [
    "# 2023 Title Master"
   ]
  },
  {
   "cell_type": "code",
   "execution_count": 53,
   "id": "c3b70eb3",
   "metadata": {},
   "outputs": [],
   "source": [
    "cambridge_23 = pd.read_csv(\"./Cambridge/2023/Cambridge Core 2023 Title Master.csv\", skiprows=range(13), low_memory=False)\n",
    "degruyter_23 = pd.read_csv(\"./De Gruyter/2023/De Gruyter Online 2023 Jan-Jun Book Usage by Access Type TR_B3.csv\", skiprows = range(13), low_memory = False)\n",
    "elsevier_23 = pd.read_csv(\"./Elsevier/2023/ScienceDirect 2023 Title Master.csv\", skiprows=range(13), low_memory=False)\n",
    "oup_23 = pd.read_csv(\"./Oxford/2023/OUP 2023 Jan-Jun Book Usage by Access Type TR_B3 (R5).csv\", skiprows = range(13), low_memory= False)\n",
    "springer_23a = pd.read_csv(\"./SpringerNature/2023/SpringerLink 2023 Jan-Oct Title Master Report TR (R5).csv\" ,skiprows=range(13), low_memory=False)\n",
    "springer_23b = pd.read_csv(\"./SpringerNature/2023/SpringerNature 2023 Total Chapter Requests by Access Type.csv\", low_memory = False)\n",
    "tnf_23 = pd.read_csv(\"./Taylor & Francis/2023/Taylor & Francis eBooks 2023 Jan-Oct Title Master Report TR (R5).csv\", skiprows=range(13), low_memory=False)\n",
    "wiley_23 = pd.read_csv(\"./Wiley/2023/Wiley Online Library 2023 Title Master Jan-Oct (R5).csv\", skiprows=range(13), low_memory=False)\n",
    "\n"
   ]
  },
  {
   "cell_type": "code",
   "execution_count": 54,
   "id": "2c2628e6",
   "metadata": {},
   "outputs": [],
   "source": [
    "cambridge_23_df = cambridge_23.loc[cambridge_23[\"Data_Type\"] == \"Book\"]\n",
    "elsevier_23_df = elsevier_23.loc[elsevier_23[\"Data_Type\"] == \"Book\"]\n",
    "# degruyter_23_df = degruyter_23.loc[degruyter_23[\"Data_Type\"] == \"Book\"]\n",
    "# oup_23_df = oup_23.loc[oup_23[\"Data_Type\"] == \"Book\"]\n",
    "# sage_23_df = sage_23.loc[sage_23[\"Data_Type\"] == \"Book\"]\n",
    "springer_23_df = springer_23a.loc[springer_23a[\"Data_Type\"] == \"Book\"]\n",
    "wiley_23_df = wiley_23.loc[wiley_23[\"Data_Type\"] == \"Book\"]"
   ]
  },
  {
   "cell_type": "code",
   "execution_count": 55,
   "id": "1e6f327e",
   "metadata": {},
   "outputs": [],
   "source": [
    "cambridge_23_df2 = cambridge_23_df.loc[((cambridge_23_df['Metric_Type'] == 'Total_Item_Requests') | (cambridge_23_df['Metric_Type'] == 'Unique_Item_Requests')| (cambridge_23_df['Metric_Type'] == 'Unique_Title_Requests'))]\n",
    "elsevier_23_df2 = elsevier_23_df.loc[((elsevier_23_df['Metric_Type'] == 'Total_Item_Requests') | (elsevier_23_df['Metric_Type'] == 'Unique_Item_Requests') | (elsevier_23_df['Metric_Type'] == 'Unique_Title_Requests'))]\n",
    "degruyter_23_df2 = degruyter_23.loc[((degruyter_23['Metric_Type'] == 'Total_Item_Requests') | (degruyter_23['Metric_Type'] == 'Unique_Item_Requests')| (degruyter_23['Metric_Type'] == 'Unique_Title_Requests'))]\n",
    "oup_23_df2 = oup_23.loc[((oup_23['Metric_Type'] == 'Total_Item_Requests') | (oup_23['Metric_Type'] == 'Unique_Item_Requests') | (oup_23['Metric_Type'] == 'Unique_Title_Requests'))]\n",
    "springer_23_df2 = springer_23_df.loc[((springer_23_df['Metric_Type'] == 'Total_Item_Requests') | (springer_23_df['Metric_Type'] == 'Unique_Item_Requests') | (springer_23_df['Metric_Type'] == 'Unique_Title_Requests'))]\n",
    "tnf_23_df2 = tnf_23.loc[((tnf_23['Metric_Type'] == 'Total_Item_Requests') | (tnf_23['Metric_Type'] == 'Unique_Item_Requests') | (tnf_23['Metric_Type'] == \"tandfeBooks:Total_Chapter_Requests\"))]\n",
    "wiley_23_df2 = wiley_23_df.loc[((wiley_23_df['Metric_Type'] == 'Total_Item_Requests') | (wiley_23_df['Metric_Type'] == 'Unique_Item_Requests') | (wiley_23_df['Metric_Type'] == 'Unique_Title_Requests'))]\n",
    "\n",
    "\n"
   ]
  },
  {
   "cell_type": "code",
   "execution_count": 28,
   "id": "25fcbb02",
   "metadata": {},
   "outputs": [
    {
     "data": {
      "text/plain": [
       "Index(['Title', 'Publisher', 'Publisher_ID', 'Platform', 'DOI',\n",
       "       'Proprietary_ID', 'ISBN', 'Print_ISSN', 'Online_ISSN', 'URI',\n",
       "       'Access_Type', 'Metric_Type', 'Reporting_Period_Total',\n",
       "       '2023-01-01 00:00:00', '2023-02-01 00:00:00', '2023-03-01 00:00:00',\n",
       "       '2023-04-01 00:00:00', '2023-05-01 00:00:00', '2023-06-01 00:00:00'],\n",
       "      dtype='object')"
      ]
     },
     "execution_count": 28,
     "metadata": {},
     "output_type": "execute_result"
    }
   ],
   "source": [
    "springer_23b.columns"
   ]
  },
  {
   "cell_type": "code",
   "execution_count": 56,
   "id": "68fc5340",
   "metadata": {},
   "outputs": [],
   "source": [
    "allpubs_2023_df = [cambridge_23_df2, elsevier_23_df2, degruyter_23_df2, oup_23_df2, springer_23_df2, springer_23b, tnf_23_df2, wiley_23_df2]\n",
    "\n",
    "allpubs_ebooks_2023 = pd.concat(allpubs_2023_df)\n",
    "\n",
    "allpubs_ebooks_2023.fillna(0, inplace = True)"
   ]
  },
  {
   "cell_type": "code",
   "execution_count": 57,
   "id": "67b19b5b",
   "metadata": {},
   "outputs": [],
   "source": [
    "allpubs_ebooks_2023.to_csv(\"./allpubs_ebooks_2023.csv\")"
   ]
  },
  {
   "cell_type": "markdown",
   "id": "68a642fd",
   "metadata": {},
   "source": [
    "#  2022 Title Master"
   ]
  },
  {
   "cell_type": "code",
   "execution_count": 133,
   "id": "d3139905",
   "metadata": {},
   "outputs": [],
   "source": [
    "cambridge_22 = pd.read_csv(\"./Cambridge/2022/Cambridge Core 2022 Title Master Report TR (R5).csv\", skiprows=range(13), low_memory=False)\n",
    "elsevier_22 = pd.read_csv(\"./Elsevier/2022/ScienceDirect 2022 Title Master Report TR (R5).csv\", skiprows=range(13), low_memory=False)\n",
    "sage_22 = pd.read_csv(\"./Sage/2022/SAGE Publications 2022 Title Master Report TR (R5).csv\", skiprows=range(13), low_memory=False)\n",
    "springer_22a = pd.read_csv(\"./SpringerNature/2022/SpringerLink 2022 Title Master Report TR (R5).csv\", skiprows=range(13), low_memory=False)\n",
    "springer_22b = pd.read_csv(\"./SpringerNature/2022/SpringerNature 2022 Total Chapter Requests by Access Type.csv\", low_memory=False)\n",
    "tnf_22 = pd.read_csv(\"./Taylor & Francis/2022/Taylor & Francis eBooks 2022 Title Master Report TR (R5).csv\", skiprows=range(13), low_memory=False)\n",
    "wiley_22 = pd.read_csv(\"./Wiley/2022/Wiley Online Library 2022 Title Master Report TR (R5).csv\", skiprows=range(13), low_memory=False)\n"
   ]
  },
  {
   "cell_type": "code",
   "execution_count": 134,
   "id": "1f511ffc",
   "metadata": {},
   "outputs": [],
   "source": [
    "cambridge_22_df = cambridge_22.loc[cambridge_22[\"Data_Type\"] == \"Book\"]\n",
    "elsevier_22_df = elsevier_22.loc[elsevier_22[\"Data_Type\"] == \"Book\"]\n",
    "sage_22_df = sage_22.loc[sage_22[\"Data_Type\"] == \"Book\"]\n",
    "springer_22_df = springer_22a.loc[springer_22a[\"Data_Type\"] == \"Book\"]\n",
    "tnf_22_df = tnf_22[tnf_22[\"Data_Type\"] == \"Book\"]\n",
    "wiley_22_df = wiley_22.loc[wiley_22['Data_Type'] == \"Book\"]"
   ]
  },
  {
   "cell_type": "code",
   "execution_count": 135,
   "id": "845a6f3f",
   "metadata": {},
   "outputs": [],
   "source": [
    "cambridge_22_df2 = cambridge_22_df.loc[((cambridge_22_df['Metric_Type'] == 'Total_Item_Requests') | (cambridge_22_df['Metric_Type'] == 'Unique_Item_Requests') | (cambridge_22_df['Metric_Type'] == 'Unique_Title_Requests'))]\n",
    "elsevier_22_df2 = elsevier_22_df.loc[((elsevier_22_df['Metric_Type'] == 'Total_Item_Requests') | (elsevier_22_df['Metric_Type'] == 'Unique_Item_Requests') | (elsevier_22_df['Metric_Type'] == 'Unique_Title_Requests'))]\n",
    "sage_22_df2 = sage_22_df.loc[((sage_22_df['Metric_Type'] == 'Total_Item_Requests') | (sage_22_df['Metric_Type'] == 'Unique_Item_Requests') | (sage_22_df['Metric_Type'] == 'Unique_Title_Requests'))]\n",
    "springer_22_df2 = springer_22_df.loc[((springer_22_df['Metric_Type'] == 'Total_Item_Requests') | (springer_22_df['Metric_Type'] == 'Unique_Item_Requests') | (springer_22_df['Metric_Type'] == 'Unique_Title_Requests'))]\n",
    "tnf_22_df2 = tnf_22_df.loc[((tnf_22_df['Metric_Type'] == 'Total_Item_Requests') | (tnf_22_df['Metric_Type'] == 'Unique_Item_Requests') | (tnf_22_df['Metric_Type'] == 'Unique_Title_Requests') | (tnf_22_df['Metric_Type'] == \"tandfeBooks:Total_Chapter_Requests\"))]\n",
    "wiley_22_df2 = wiley_22_df.loc[((wiley_22_df['Metric_Type'] == 'Total_Item_Requests') | (wiley_22_df['Metric_Type'] == 'Unique_Item_Requests') | (wiley_22_df['Metric_Type'] == 'Unique_Title_Requests'))]\n"
   ]
  },
  {
   "cell_type": "code",
   "execution_count": 136,
   "id": "b4cde7ba",
   "metadata": {},
   "outputs": [],
   "source": [
    "allpubs_2022_df = [cambridge_22_df2, elsevier_22_df2, sage_22_df2, springer_22b, springer_22_df2, tnf_22_df2, wiley_22_df2]\n",
    "\n",
    "allpubs_ebooks_2022 = pd.concat(allpubs_2022_df)\n",
    "\n",
    "allpubs_ebooks_2022.fillna(0, inplace = True)"
   ]
  },
  {
   "cell_type": "code",
   "execution_count": 138,
   "id": "3432af8e",
   "metadata": {},
   "outputs": [],
   "source": [
    "allpubs_ebooks_2022.to_csv(\"./allpubs_ebooks_2022.csv\")"
   ]
  },
  {
   "cell_type": "code",
   "execution_count": 60,
   "id": "d07d8241",
   "metadata": {},
   "outputs": [],
   "source": [
    "#De Gruyter & Oxford 2022\n",
    "\n",
    "degruyter_22 = pd.read_csv(\"./De Gruyter/2022/De Gruyter Online 2022 Book Usage by Access Type TR_B3 (R5).csv\", skiprows = range(13), low_memory = False)\n",
    "\n",
    "oup_22 = pd.read_csv(\"./Oxford/2022/OUP 2022 Book Usage by Access Type TR_B3 (R5).csv\", skiprows = range(13), low_memory = False)"
   ]
  },
  {
   "cell_type": "code",
   "execution_count": 61,
   "id": "101d67be",
   "metadata": {},
   "outputs": [],
   "source": [
    "degruyter_22_df2 = degruyter_22.loc[((degruyter_22['Metric_Type'] == 'Total_Item_Requests') | (degruyter_22['Metric_Type'] == 'Unique_Item_Requests') | (degruyter_22['Metric_Type'] == 'Unique_Title_Requests'))]\n",
    "oup_22_df2 = oup_22.loc[((oup_22['Metric_Type'] == 'Total_Item_Requests') | (oup_22['Metric_Type'] == 'Unique_Item_Requests') | (oup_22['Metric_Type'] == 'Unique_Title_Requests'))]\n"
   ]
  },
  {
   "cell_type": "code",
   "execution_count": 62,
   "id": "de4d0e02",
   "metadata": {},
   "outputs": [],
   "source": [
    "degruyter_oup_dfs_22_dfs = [degruyter_22_df2, oup_22_df2]\n",
    "\n",
    "degruyter_oup_dfs_22 = pd.concat(degruyter_oup_dfs_22_dfs)\n",
    "degruyter_oup_dfs_22.fillna(0, inplace = True)"
   ]
  },
  {
   "cell_type": "code",
   "execution_count": 63,
   "id": "e5f93bfc",
   "metadata": {},
   "outputs": [],
   "source": [
    "degruyter_oup_dfs_22.to_csv(\"./degruyter_oup_dfs_22.csv\")"
   ]
  },
  {
   "cell_type": "code",
   "execution_count": 123,
   "id": "e0694042",
   "metadata": {},
   "outputs": [
    {
     "name": "stderr",
     "output_type": "stream",
     "text": [
      "C:\\Users\\aclao89\\AppData\\Local\\Temp\\ipykernel_15760\\2822248216.py:1: DtypeWarning: Columns (2,4,5,6,7,8,9,10,11,14,45,46) have mixed types. Specify dtype option on import or set low_memory=False.\n",
      "  all_ebooks_22 = pd.read_csv(\"./allpubs_ebooks_2022.csv\")\n",
      "C:\\Users\\aclao89\\AppData\\Local\\Temp\\ipykernel_15760\\2822248216.py:2: DtypeWarning: Columns (2,4,5,7,8,9) have mixed types. Specify dtype option on import or set low_memory=False.\n",
      "  degruyter_oup_dfs_22a = pd.read_csv(\"./degruyter_oup_dfs_22a.csv\")\n"
     ]
    }
   ],
   "source": [
    "all_ebooks_22 = pd.read_csv(\"./allpubs_ebooks_2022.csv\")\n",
    "degruyter_oup_dfs_22a = pd.read_csv(\"./degruyter_oup_dfs_22a.csv\")"
   ]
  },
  {
   "cell_type": "code",
   "execution_count": 126,
   "id": "f0996549",
   "metadata": {},
   "outputs": [],
   "source": [
    "all_ebooks_22dfs = [all_ebooks_22, degruyter_oup_dfs_22a]\n",
    "\n",
    "all_pub_ebooks_22 = pd.concat(all_ebooks_22dfs)\n",
    "all_pub_ebooks_22.fillna(0, inplace =True)"
   ]
  },
  {
   "cell_type": "code",
   "execution_count": 127,
   "id": "55a07137",
   "metadata": {},
   "outputs": [],
   "source": [
    "all_pub_ebooks_22.to_csv(\"./all_pub_ebooks_22_final.csv\")"
   ]
  },
  {
   "cell_type": "code",
   "execution_count": 124,
   "id": "663f43e3",
   "metadata": {},
   "outputs": [],
   "source": [
    "degruyter_oup_dfs_22_dfs = [degruyter_22_df2, oup_22_df2]\n",
    "\n",
    "degruyter_oup_dfs_22 = pd.concat(degruyter_oup_dfs_22_dfs)\n",
    "degruyter_oup_dfs_22.fillna(0, inplace = True)"
   ]
  },
  {
   "cell_type": "code",
   "execution_count": 125,
   "id": "9b47de3f",
   "metadata": {},
   "outputs": [],
   "source": [
    "degruyter_oup_dfs_22.to_csv(\"./degruyter_oup_dfs_22_final.csv\")"
   ]
  },
  {
   "cell_type": "code",
   "execution_count": null,
   "id": "168c0c5c",
   "metadata": {},
   "outputs": [],
   "source": []
  },
  {
   "cell_type": "markdown",
   "id": "74b34c6c",
   "metadata": {},
   "source": [
    "# 2021 Title Master"
   ]
  },
  {
   "cell_type": "code",
   "execution_count": 144,
   "id": "ebc6e04b",
   "metadata": {},
   "outputs": [],
   "source": [
    "cambridge_21 = pd.read_csv(\"./Cambridge/2021/Cambridge Core 2021 Title Master Report TR (R5).csv\", skiprows=range(13), low_memory=False)\n",
    "elsevier_21 = pd.read_csv(\"./Elsevier/2021/ScienceDirect 2021 Title Master Report TR (R5).csv\", skiprows=range(13), low_memory=False)\n",
    "sage_21 = pd.read_csv(\"./Sage/2021/SAGE Publications 2021 Book Usage by Access Type TR_B3 (R5).csv\", skiprows=range(13), low_memory=False)\n",
    "springer_21a = pd.read_csv(\"./SpringerNature/2021/SpringerLink 2021 Title Master Report TR (R5).csv\", skiprows=range(13), low_memory=False)\n",
    "springer_21b = pd.read_csv(\"./SpringerNature/2021/Springer 2021 Book Usage - Total Chapter Requests.csv\",skiprows=range(13), low_memory=False)\n",
    "tnf_21 = pd.read_csv(\"./Taylor & Francis/2021/Taylor & Francis EBooks/Taylor & Francis eBooks 2021 Title Master Report TR (R5) (1).csv\", skiprows=range(13), low_memory=False)\n",
    "wiley_21 = pd.read_csv(\"./Wiley/2021/Wiley Online Library 2021 Title Master Report TR (R5).csv\", skiprows=range(13), low_memory=False)\n"
   ]
  },
  {
   "cell_type": "code",
   "execution_count": 52,
   "id": "ec759b44",
   "metadata": {},
   "outputs": [
    {
     "data": {
      "text/plain": [
       "Index(['Title', 'Publisher', 'Publisher_ID', 'Platform', 'DOI',\n",
       "       'Proprietary_ID', 'ISBN', 'Print_ISSN', 'Online_ISSN', 'URI',\n",
       "       'Metric_Type', 'Reporting Period Total', '2021-01-01 00:00:00',\n",
       "       '2021-02-01 00:00:00', '2021-03-01 00:00:00', '2021-04-01 00:00:00',\n",
       "       '2021-05-01 00:00:00', '2021-06-01 00:00:00', '2021-07-01 00:00:00',\n",
       "       '2021-08-01 00:00:00', '2021-09-01 00:00:00', '2021-10-01 00:00:00',\n",
       "       '2021-11-01 00:00:00', '2021-12-01 00:00:00'],\n",
       "      dtype='object')"
      ]
     },
     "execution_count": 52,
     "metadata": {},
     "output_type": "execute_result"
    }
   ],
   "source": [
    "springer_21b.columns"
   ]
  },
  {
   "cell_type": "code",
   "execution_count": 145,
   "id": "99ef122f",
   "metadata": {},
   "outputs": [],
   "source": [
    "cambridge_21_df = cambridge_21.loc[cambridge_21[\"Data_Type\"] == \"Book\"]\n",
    "elsevier_21_df = elsevier_21.loc[elsevier_21[\"Data_Type\"] == \"Book\"]\n",
    "springer_21_df = springer_21a.loc[springer_21a[\"Data_Type\"] == \"Book\"]\n",
    "tnf_21_df = tnf_21.loc[tnf_21[\"Data_Type\"] == \"Book\"]\n",
    "wiley_21_df = wiley_21[wiley_21[\"Data_Type\"] == \"Book\"]"
   ]
  },
  {
   "cell_type": "code",
   "execution_count": 146,
   "id": "8a260174",
   "metadata": {},
   "outputs": [],
   "source": [
    "cambridge_21_df2 = cambridge_21_df.loc[((cambridge_21_df['Metric_Type'] == 'Total_Item_Requests') | (cambridge_21_df['Metric_Type'] == 'Unique_Item_Requests') | (cambridge_21_df['Metric_Type'] == 'Unique_Title_Requests'))]\n",
    "elsevier_21_df2 = elsevier_21_df.loc[((elsevier_21_df['Metric_Type'] == 'Total_Item_Requests') | (elsevier_21_df['Metric_Type'] == 'Unique_Item_Requests') | (elsevier_21_df['Metric_Type'] == 'Unique_Title_Requests'))]\n",
    "sage_21_df2 = sage_21.loc[((sage_21['Metric_Type'] == 'Total_Item_Requests') | (sage_21['Metric_Type'] == 'Unique_Item_Requests') | (sage_21['Metric_Type'] == 'Unique_Title_Requests'))]\n",
    "springer_21_df2 = springer_21a.loc[((springer_21a['Metric_Type'] == 'Total_Item_Requests') | (springer_21a['Metric_Type'] == 'Unique_Item_Requests') | (springer_21a['Metric_Type'] == 'Unique_Title_Requests'))]\n",
    "tnf_21_df2 = tnf_21_df.loc[((tnf_21_df['Metric_Type'] == 'Total_Item_Requests') | (tnf_21_df['Metric_Type'] == 'Unique_Item_Requests') | (tnf_21_df['Metric_Type'] == 'Unique_Title_Requests') | (tnf_21_df['Metric_Type'] == \"tandfeBooks:Total_Chapter_Requests\"))]\n",
    "wiley_21_df2 = wiley_21_df.loc[((wiley_21_df['Metric_Type'] == 'Total_Item_Requests') | (wiley_21_df['Metric_Type'] == 'Unique_Item_Requests')  | (wiley_21_df['Metric_Type'] == 'Unique_Title_Requests'))]\n"
   ]
  },
  {
   "cell_type": "code",
   "execution_count": 147,
   "id": "66a62062",
   "metadata": {},
   "outputs": [],
   "source": [
    "allpubs_2021_df = [cambridge_21_df2, elsevier_21_df2, sage_21_df2, springer_21b, springer_21_df2, tnf_21_df2, wiley_21_df2]\n",
    "\n",
    "allpubs_ebooks_2021 = pd.concat(allpubs_2021_df)\n",
    "\n",
    "allpubs_ebooks_2021.fillna(0, inplace = True)"
   ]
  },
  {
   "cell_type": "code",
   "execution_count": 148,
   "id": "20bda48f",
   "metadata": {},
   "outputs": [],
   "source": [
    "allpubs_ebooks_2021.to_csv(\"./allpubs_ebooks_2021.csv\")"
   ]
  },
  {
   "cell_type": "code",
   "execution_count": 113,
   "id": "31bec175",
   "metadata": {},
   "outputs": [],
   "source": [
    "#De Gruyter & Oxford 2021\n",
    "\n",
    "degruyter_21 = pd.read_csv(\"./De Gruyter/2021/De Gruyter Online 2021 Book Usage by Access Type TR_B3 (R5).csv\", skiprows = range(13), low_memory = False)\n",
    "\n",
    "oup_21 = pd.read_csv(\"./Oxford/2021/OUP 2021 Book Usage by Access Type TR_B3 (R5).csv\", skiprows = range(13), low_memory = False)"
   ]
  },
  {
   "cell_type": "code",
   "execution_count": 114,
   "id": "0854b33d",
   "metadata": {},
   "outputs": [],
   "source": [
    "degruyter_21_df2 = degruyter_21.loc[((degruyter_21['Metric_Type'] == 'Total_Item_Requests') | (degruyter_21['Metric_Type'] == 'Unique_Item_Requests') | (degruyter_21['Metric_Type'] == 'Unique_Title_Requests'))]\n",
    "oup_21_df2 = oup_21.loc[((oup_21['Metric_Type'] == 'Total_Item_Requests') | (oup_21['Metric_Type'] == 'Unique_Item_Requests') | (oup_21['Metric_Type'] == 'Unique_Title_Requests'))]\n"
   ]
  },
  {
   "cell_type": "code",
   "execution_count": 115,
   "id": "1af6a596",
   "metadata": {},
   "outputs": [],
   "source": [
    "degruyter_oup_dfs_21_dfs = [degruyter_21_df2, oup_21_df2]\n",
    "\n",
    "degruyter_oup_dfs_21 = pd.concat(degruyter_oup_dfs_21_dfs)\n",
    "degruyter_oup_dfs_21.fillna(0, inplace = True)"
   ]
  },
  {
   "cell_type": "code",
   "execution_count": 117,
   "id": "4194bd75",
   "metadata": {},
   "outputs": [],
   "source": [
    "degruyter_oup_dfs_21.to_csv(\"./degruyter_oup_dfs_21.csv\")"
   ]
  },
  {
   "cell_type": "code",
   "execution_count": 118,
   "id": "296623fb",
   "metadata": {},
   "outputs": [
    {
     "name": "stderr",
     "output_type": "stream",
     "text": [
      "C:\\Users\\aclao89\\AppData\\Local\\Temp\\ipykernel_15760\\1102517875.py:1: DtypeWarning: Columns (2,4,5,7,8,9) have mixed types. Specify dtype option on import or set low_memory=False.\n",
      "  degruyter_oup_dfs_21a = pd.read_csv(\"./degruyter_oup_dfs_21.csv\")\n"
     ]
    }
   ],
   "source": [
    "degruyter_oup_dfs_21a = pd.read_csv(\"./degruyter_oup_dfs_21.csv\")\n",
    "all_ebooks_21 = pd.read_csv(\"./allpubs_ebooks_2021.csv\", low_memory = False)"
   ]
  },
  {
   "cell_type": "code",
   "execution_count": 119,
   "id": "59754d08",
   "metadata": {},
   "outputs": [],
   "source": [
    "all_pubs_ebooks_21_final_df = [all_ebooks_21,degruyter_oup_dfs_21]\n",
    "\n",
    "all_pubs_ebooks_21_final  = pd.concat(all_pubs_ebooks_21_final_df)\n",
    "\n",
    "all_pubs_ebooks_21_final.fillna(0, inplace = True)"
   ]
  },
  {
   "cell_type": "code",
   "execution_count": 121,
   "id": "985089b4",
   "metadata": {},
   "outputs": [
    {
     "data": {
      "text/plain": [
       "Index(['Title', 'Publisher', 'Publisher_ID', 'Platform', 'DOI',\n",
       "       'Proprietary_ID', 'ISBN', 'Print_ISSN', 'Online_ISSN', 'URI',\n",
       "       'Data_Type', 'Section_Type', 'YOP', 'Access_Type', 'Access_Method',\n",
       "       'Metric_Type', 'Reporting_Period_Total', '2021-01-01 00:00:00',\n",
       "       '2021-02-01 00:00:00', '2021-03-01 00:00:00', '2021-04-01 00:00:00',\n",
       "       '2021-05-01 00:00:00', '2021-06-01 00:00:00', '2021-07-01 00:00:00',\n",
       "       '2021-08-01 00:00:00', '2021-09-01 00:00:00', '2021-10-01 00:00:00',\n",
       "       '2021-11-01 00:00:00', '2021-12-01 00:00:00', 'Reporting Period Total'],\n",
       "      dtype='object')"
      ]
     },
     "execution_count": 121,
     "metadata": {},
     "output_type": "execute_result"
    }
   ],
   "source": [
    "all_ebooks_21.columns"
   ]
  },
  {
   "cell_type": "code",
   "execution_count": 122,
   "id": "189b15e5",
   "metadata": {},
   "outputs": [],
   "source": [
    "all_pubs_ebooks_21_final.to_csv(\"./all_pubs_ebooks_21_final.csv\")"
   ]
  },
  {
   "cell_type": "markdown",
   "id": "9a4f1b39",
   "metadata": {},
   "source": [
    "# 2020 Title Master "
   ]
  },
  {
   "cell_type": "code",
   "execution_count": 139,
   "id": "dbdb3542",
   "metadata": {},
   "outputs": [],
   "source": [
    "cambridge_20 = pd.read_csv(\"./Cambridge/2020/Cambridge Core 2020 Title Master Report TR (R5).csv\", skiprows=range(13), low_memory=False)\n",
    "elsevier_20 = pd.read_csv(\"./Elsevier/2020/ScienceDirect 2020 Title Master Report TR (R5).csv\", skiprows=range(13), low_memory=False)\n",
    "sage_20 = pd.read_csv(\"./Sage/2020/SAGE Publications 2020 eBook Requests.csv\", skiprows= range(13), low_memory=False)\n",
    "springer_20a = pd.read_csv(\"./SpringerNature/2020/SpringerLink 2020 eBooks Chapter Requests.csv\", low_memory=False)\n",
    "springer_20b = pd.read_csv(\"./SpringerNature/2020/Springer 2020 Book Usage by Access Type TR_B3 (R5).csv\",skiprows=range(13), low_memory=False)\n",
    "tnf_20 = pd.read_csv(\"./Taylor & Francis/2020/Taylor & Francis EBooks/Taylor & Francis eBooks 2020 Title Master Report TR (R5).csv\", skiprows=range(13), low_memory=False)\n",
    "wiley_20 = pd.read_csv(\"./Wiley/2020/Wiley Online Library 2020 Title Master Report TR (R5).csv\", skiprows=range(13), low_memory=False)\n"
   ]
  },
  {
   "cell_type": "code",
   "execution_count": 140,
   "id": "bd1bb32d",
   "metadata": {},
   "outputs": [],
   "source": [
    "cambridge_20_df = cambridge_20.loc[cambridge_20[\"Data_Type\"] == \"Book\"]\n",
    "elsevier_20_df = elsevier_20.loc[elsevier_20[\"Data_Type\"] == \"Book\"]\n",
    "sage_20_df = sage_20.loc[sage_20[\"Data_Type\"] == \"Book\"]\n",
    "wiley_20_df = wiley_20[wiley_20[\"Data_Type\"] == \"Book\"]"
   ]
  },
  {
   "cell_type": "code",
   "execution_count": 141,
   "id": "f1367590",
   "metadata": {},
   "outputs": [],
   "source": [
    "cambridge_20_df2 = cambridge_20_df.loc[((cambridge_20_df['Metric_Type'] == 'Total_Item_Requests') | (cambridge_20_df['Metric_Type'] == 'Unique_Item_Requests') | (cambridge_20_df['Metric_Type'] == 'Unique_Title_Requests'))]\n",
    "elsevier_20_df2 = elsevier_20_df.loc[((elsevier_20_df['Metric_Type'] == 'Total_Item_Requests') | (elsevier_20_df['Metric_Type'] == 'Unique_Item_Requests') | (elsevier_20_df['Metric_Type'] == 'Unique_Title_Requests'))]\n",
    "sage_20_df2 = sage_20_df.loc[((sage_20_df['Metric_Type'] == 'Total_Item_Requests') | (sage_20_df['Metric_Type'] == 'Unique_Item_Requests') | (sage_20_df['Metric_Type'] == 'Unique_Title_Requests'))]\n",
    "springer_20_df2 = springer_20b.loc[((springer_20b['Metric_Type'] == 'Total_Item_Requests') | (springer_20b['Metric_Type'] == 'Unique_Item_Requests') | (springer_20b['Metric_Type'] == \"Unique_Title_Requests\"))]\n",
    "tnf_20_df2 = tnf_20.loc[((tnf_20['Metric_Type'] == 'Total_Item_Requests') | (tnf_20['Metric_Type'] == 'Unique_Item_Requests') | (tnf_20['Metric_Type'] == \"tandfeBooks:Total_Chapter_Requests\") | (springer_20b['Metric_Type'] == \"Unique_Title_Requests\"))]\n",
    "wiley_20_df2 = wiley_20_df.loc[((wiley_20_df['Metric_Type'] == 'Total_Item_Requests') | (wiley_20_df['Metric_Type'] == 'Unique_Item_Requests') | (wiley_20_df['Metric_Type'] == \"Unique_Title_Requests\"))]\n"
   ]
  },
  {
   "cell_type": "code",
   "execution_count": 24,
   "id": "3a01f98b",
   "metadata": {},
   "outputs": [
    {
     "data": {
      "text/plain": [
       "Index(['Title', 'Publisher', 'Publisher_ID', 'Platform', 'DOI',\n",
       "       'Proprietary_ID', 'ISBN', 'Print_ISSN', 'Online_ISSN', 'URI',\n",
       "       'Data_Type', 'Section_Type', 'YOP', 'Access_Type', 'Access_Method',\n",
       "       'Metric_Type', 'Reporting_Period_Total', '2020-01-01 00:00:00',\n",
       "       '2020-02-01 00:00:00', '2020-03-01 00:00:00', '2020-04-01 00:00:00',\n",
       "       '2020-05-01 00:00:00', '2020-06-01 00:00:00', '2020-07-01 00:00:00',\n",
       "       '2020-08-01 00:00:00', '2020-09-01 00:00:00', '2020-10-01 00:00:00',\n",
       "       '2020-11-01 00:00:00', '2020-12-01 00:00:00'],\n",
       "      dtype='object')"
      ]
     },
     "execution_count": 24,
     "metadata": {},
     "output_type": "execute_result"
    }
   ],
   "source": [
    "wiley_20_df2.columns"
   ]
  },
  {
   "cell_type": "code",
   "execution_count": 142,
   "id": "b41a3b54",
   "metadata": {},
   "outputs": [],
   "source": [
    "allpubs_2020_df = [cambridge_20_df2, elsevier_20_df2, sage_20_df2,springer_20a, springer_20_df2, tnf_20_df2, wiley_20_df2]\n",
    "\n",
    "allpubs_ebooks_2020 = pd.concat(allpubs_2020_df)\n",
    "\n",
    "allpubs_ebooks_2020.fillna(0, inplace = True)"
   ]
  },
  {
   "cell_type": "code",
   "execution_count": 143,
   "id": "65f2f633",
   "metadata": {},
   "outputs": [],
   "source": [
    "allpubs_ebooks_2020.to_csv(\"./allpubs_ebooks_2020.csv\")"
   ]
  },
  {
   "cell_type": "code",
   "execution_count": 105,
   "id": "e5d4b47a",
   "metadata": {},
   "outputs": [],
   "source": [
    "allpubs_2020_2023_df = [allpubs_2020, allpubs_2021, allpubs_2022, allpubs_2023]\n",
    "\n",
    "allpubs_2020_2023 = pd.concat(allpubs_2020_2023_df)\n",
    "\n",
    "allpubs_2020_2023.to_csv(\"./allpubs_2020_2023_df.csv\")"
   ]
  },
  {
   "cell_type": "code",
   "execution_count": 78,
   "id": "112e3ec7",
   "metadata": {},
   "outputs": [],
   "source": [
    "#De Gruyter & Oxford 2022\n",
    "\n",
    "degruyter_20 = pd.read_csv(\"./De Gruyter/2020/De Gruyter Online 2020 Book Usage by Access Type TR_B3 (R5).csv\", skiprows = range(13), low_memory = False)\n",
    "\n",
    "oup_20 = pd.read_csv(\"./Oxford/2020/OUP 2020 Book Usage by Access Type TR_B3 (R5).csv\", skiprows = range(13), low_memory = False)"
   ]
  },
  {
   "cell_type": "code",
   "execution_count": 80,
   "id": "0d9917b6",
   "metadata": {},
   "outputs": [],
   "source": [
    "degruyter_20_df2 = degruyter_20.loc[((degruyter_20['Metric_Type'] == 'Total_Item_Requests') | (degruyter_20['Metric_Type'] == 'Unique_Item_Requests') | (degruyter_20['Metric_Type'] == 'Unique_Title_Requests'))]\n",
    "oup_20_df2 = oup_20.loc[((oup_20['Metric_Type'] == 'Total_Item_Requests') | (oup_20['Metric_Type'] == 'Unique_Item_Requests') | (oup_20['Metric_Type'] == 'Unique_Title_Requests'))]\n"
   ]
  },
  {
   "cell_type": "code",
   "execution_count": 81,
   "id": "229b4cf3",
   "metadata": {},
   "outputs": [],
   "source": [
    "degruyter_oup_dfs_20_dfs = [degruyter_20_df2, oup_20_df2]\n",
    "\n",
    "degruyter_oup_dfs_20 = pd.concat(degruyter_oup_dfs_20_dfs)\n",
    "degruyter_oup_dfs_20.fillna(0, inplace = True)"
   ]
  },
  {
   "cell_type": "code",
   "execution_count": 89,
   "id": "5e2a81bf",
   "metadata": {
    "scrolled": true
   },
   "outputs": [
    {
     "ename": "PermissionError",
     "evalue": "[Errno 13] Permission denied: './degruyter_oup_dfs_20.csv'",
     "output_type": "error",
     "traceback": [
      "\u001b[1;31m---------------------------------------------------------------------------\u001b[0m",
      "\u001b[1;31mPermissionError\u001b[0m                           Traceback (most recent call last)",
      "Cell \u001b[1;32mIn[89], line 1\u001b[0m\n\u001b[1;32m----> 1\u001b[0m degruyter_oup_dfs_20\u001b[38;5;241m.\u001b[39mto_csv(\u001b[38;5;124m\"\u001b[39m\u001b[38;5;124m./degruyter_oup_dfs_20.csv\u001b[39m\u001b[38;5;124m\"\u001b[39m)\n",
      "File \u001b[1;32m~\\AppData\\Local\\anaconda3\\Lib\\site-packages\\pandas\\util\\_decorators.py:211\u001b[0m, in \u001b[0;36mdeprecate_kwarg.<locals>._deprecate_kwarg.<locals>.wrapper\u001b[1;34m(*args, **kwargs)\u001b[0m\n\u001b[0;32m    209\u001b[0m     \u001b[38;5;28;01melse\u001b[39;00m:\n\u001b[0;32m    210\u001b[0m         kwargs[new_arg_name] \u001b[38;5;241m=\u001b[39m new_arg_value\n\u001b[1;32m--> 211\u001b[0m \u001b[38;5;28;01mreturn\u001b[39;00m func(\u001b[38;5;241m*\u001b[39margs, \u001b[38;5;241m*\u001b[39m\u001b[38;5;241m*\u001b[39mkwargs)\n",
      "File \u001b[1;32m~\\AppData\\Local\\anaconda3\\Lib\\site-packages\\pandas\\core\\generic.py:3720\u001b[0m, in \u001b[0;36mNDFrame.to_csv\u001b[1;34m(self, path_or_buf, sep, na_rep, float_format, columns, header, index, index_label, mode, encoding, compression, quoting, quotechar, lineterminator, chunksize, date_format, doublequote, escapechar, decimal, errors, storage_options)\u001b[0m\n\u001b[0;32m   3709\u001b[0m df \u001b[38;5;241m=\u001b[39m \u001b[38;5;28mself\u001b[39m \u001b[38;5;28;01mif\u001b[39;00m \u001b[38;5;28misinstance\u001b[39m(\u001b[38;5;28mself\u001b[39m, ABCDataFrame) \u001b[38;5;28;01melse\u001b[39;00m \u001b[38;5;28mself\u001b[39m\u001b[38;5;241m.\u001b[39mto_frame()\n\u001b[0;32m   3711\u001b[0m formatter \u001b[38;5;241m=\u001b[39m DataFrameFormatter(\n\u001b[0;32m   3712\u001b[0m     frame\u001b[38;5;241m=\u001b[39mdf,\n\u001b[0;32m   3713\u001b[0m     header\u001b[38;5;241m=\u001b[39mheader,\n\u001b[1;32m   (...)\u001b[0m\n\u001b[0;32m   3717\u001b[0m     decimal\u001b[38;5;241m=\u001b[39mdecimal,\n\u001b[0;32m   3718\u001b[0m )\n\u001b[1;32m-> 3720\u001b[0m \u001b[38;5;28;01mreturn\u001b[39;00m DataFrameRenderer(formatter)\u001b[38;5;241m.\u001b[39mto_csv(\n\u001b[0;32m   3721\u001b[0m     path_or_buf,\n\u001b[0;32m   3722\u001b[0m     lineterminator\u001b[38;5;241m=\u001b[39mlineterminator,\n\u001b[0;32m   3723\u001b[0m     sep\u001b[38;5;241m=\u001b[39msep,\n\u001b[0;32m   3724\u001b[0m     encoding\u001b[38;5;241m=\u001b[39mencoding,\n\u001b[0;32m   3725\u001b[0m     errors\u001b[38;5;241m=\u001b[39merrors,\n\u001b[0;32m   3726\u001b[0m     compression\u001b[38;5;241m=\u001b[39mcompression,\n\u001b[0;32m   3727\u001b[0m     quoting\u001b[38;5;241m=\u001b[39mquoting,\n\u001b[0;32m   3728\u001b[0m     columns\u001b[38;5;241m=\u001b[39mcolumns,\n\u001b[0;32m   3729\u001b[0m     index_label\u001b[38;5;241m=\u001b[39mindex_label,\n\u001b[0;32m   3730\u001b[0m     mode\u001b[38;5;241m=\u001b[39mmode,\n\u001b[0;32m   3731\u001b[0m     chunksize\u001b[38;5;241m=\u001b[39mchunksize,\n\u001b[0;32m   3732\u001b[0m     quotechar\u001b[38;5;241m=\u001b[39mquotechar,\n\u001b[0;32m   3733\u001b[0m     date_format\u001b[38;5;241m=\u001b[39mdate_format,\n\u001b[0;32m   3734\u001b[0m     doublequote\u001b[38;5;241m=\u001b[39mdoublequote,\n\u001b[0;32m   3735\u001b[0m     escapechar\u001b[38;5;241m=\u001b[39mescapechar,\n\u001b[0;32m   3736\u001b[0m     storage_options\u001b[38;5;241m=\u001b[39mstorage_options,\n\u001b[0;32m   3737\u001b[0m )\n",
      "File \u001b[1;32m~\\AppData\\Local\\anaconda3\\Lib\\site-packages\\pandas\\util\\_decorators.py:211\u001b[0m, in \u001b[0;36mdeprecate_kwarg.<locals>._deprecate_kwarg.<locals>.wrapper\u001b[1;34m(*args, **kwargs)\u001b[0m\n\u001b[0;32m    209\u001b[0m     \u001b[38;5;28;01melse\u001b[39;00m:\n\u001b[0;32m    210\u001b[0m         kwargs[new_arg_name] \u001b[38;5;241m=\u001b[39m new_arg_value\n\u001b[1;32m--> 211\u001b[0m \u001b[38;5;28;01mreturn\u001b[39;00m func(\u001b[38;5;241m*\u001b[39margs, \u001b[38;5;241m*\u001b[39m\u001b[38;5;241m*\u001b[39mkwargs)\n",
      "File \u001b[1;32m~\\AppData\\Local\\anaconda3\\Lib\\site-packages\\pandas\\io\\formats\\format.py:1189\u001b[0m, in \u001b[0;36mDataFrameRenderer.to_csv\u001b[1;34m(self, path_or_buf, encoding, sep, columns, index_label, mode, compression, quoting, quotechar, lineterminator, chunksize, date_format, doublequote, escapechar, errors, storage_options)\u001b[0m\n\u001b[0;32m   1168\u001b[0m     created_buffer \u001b[38;5;241m=\u001b[39m \u001b[38;5;28;01mFalse\u001b[39;00m\n\u001b[0;32m   1170\u001b[0m csv_formatter \u001b[38;5;241m=\u001b[39m CSVFormatter(\n\u001b[0;32m   1171\u001b[0m     path_or_buf\u001b[38;5;241m=\u001b[39mpath_or_buf,\n\u001b[0;32m   1172\u001b[0m     lineterminator\u001b[38;5;241m=\u001b[39mlineterminator,\n\u001b[1;32m   (...)\u001b[0m\n\u001b[0;32m   1187\u001b[0m     formatter\u001b[38;5;241m=\u001b[39m\u001b[38;5;28mself\u001b[39m\u001b[38;5;241m.\u001b[39mfmt,\n\u001b[0;32m   1188\u001b[0m )\n\u001b[1;32m-> 1189\u001b[0m csv_formatter\u001b[38;5;241m.\u001b[39msave()\n\u001b[0;32m   1191\u001b[0m \u001b[38;5;28;01mif\u001b[39;00m created_buffer:\n\u001b[0;32m   1192\u001b[0m     \u001b[38;5;28;01massert\u001b[39;00m \u001b[38;5;28misinstance\u001b[39m(path_or_buf, StringIO)\n",
      "File \u001b[1;32m~\\AppData\\Local\\anaconda3\\Lib\\site-packages\\pandas\\io\\formats\\csvs.py:241\u001b[0m, in \u001b[0;36mCSVFormatter.save\u001b[1;34m(self)\u001b[0m\n\u001b[0;32m    237\u001b[0m \u001b[38;5;250m\u001b[39m\u001b[38;5;124;03m\"\"\"\u001b[39;00m\n\u001b[0;32m    238\u001b[0m \u001b[38;5;124;03mCreate the writer & save.\u001b[39;00m\n\u001b[0;32m    239\u001b[0m \u001b[38;5;124;03m\"\"\"\u001b[39;00m\n\u001b[0;32m    240\u001b[0m \u001b[38;5;66;03m# apply compression and byte/text conversion\u001b[39;00m\n\u001b[1;32m--> 241\u001b[0m \u001b[38;5;28;01mwith\u001b[39;00m get_handle(\n\u001b[0;32m    242\u001b[0m     \u001b[38;5;28mself\u001b[39m\u001b[38;5;241m.\u001b[39mfilepath_or_buffer,\n\u001b[0;32m    243\u001b[0m     \u001b[38;5;28mself\u001b[39m\u001b[38;5;241m.\u001b[39mmode,\n\u001b[0;32m    244\u001b[0m     encoding\u001b[38;5;241m=\u001b[39m\u001b[38;5;28mself\u001b[39m\u001b[38;5;241m.\u001b[39mencoding,\n\u001b[0;32m    245\u001b[0m     errors\u001b[38;5;241m=\u001b[39m\u001b[38;5;28mself\u001b[39m\u001b[38;5;241m.\u001b[39merrors,\n\u001b[0;32m    246\u001b[0m     compression\u001b[38;5;241m=\u001b[39m\u001b[38;5;28mself\u001b[39m\u001b[38;5;241m.\u001b[39mcompression,\n\u001b[0;32m    247\u001b[0m     storage_options\u001b[38;5;241m=\u001b[39m\u001b[38;5;28mself\u001b[39m\u001b[38;5;241m.\u001b[39mstorage_options,\n\u001b[0;32m    248\u001b[0m ) \u001b[38;5;28;01mas\u001b[39;00m handles:\n\u001b[0;32m    249\u001b[0m \n\u001b[0;32m    250\u001b[0m     \u001b[38;5;66;03m# Note: self.encoding is irrelevant here\u001b[39;00m\n\u001b[0;32m    251\u001b[0m     \u001b[38;5;28mself\u001b[39m\u001b[38;5;241m.\u001b[39mwriter \u001b[38;5;241m=\u001b[39m csvlib\u001b[38;5;241m.\u001b[39mwriter(\n\u001b[0;32m    252\u001b[0m         handles\u001b[38;5;241m.\u001b[39mhandle,\n\u001b[0;32m    253\u001b[0m         lineterminator\u001b[38;5;241m=\u001b[39m\u001b[38;5;28mself\u001b[39m\u001b[38;5;241m.\u001b[39mlineterminator,\n\u001b[1;32m   (...)\u001b[0m\n\u001b[0;32m    258\u001b[0m         quotechar\u001b[38;5;241m=\u001b[39m\u001b[38;5;28mself\u001b[39m\u001b[38;5;241m.\u001b[39mquotechar,\n\u001b[0;32m    259\u001b[0m     )\n\u001b[0;32m    261\u001b[0m     \u001b[38;5;28mself\u001b[39m\u001b[38;5;241m.\u001b[39m_save()\n",
      "File \u001b[1;32m~\\AppData\\Local\\anaconda3\\Lib\\site-packages\\pandas\\io\\common.py:856\u001b[0m, in \u001b[0;36mget_handle\u001b[1;34m(path_or_buf, mode, encoding, compression, memory_map, is_text, errors, storage_options)\u001b[0m\n\u001b[0;32m    851\u001b[0m \u001b[38;5;28;01melif\u001b[39;00m \u001b[38;5;28misinstance\u001b[39m(handle, \u001b[38;5;28mstr\u001b[39m):\n\u001b[0;32m    852\u001b[0m     \u001b[38;5;66;03m# Check whether the filename is to be opened in binary mode.\u001b[39;00m\n\u001b[0;32m    853\u001b[0m     \u001b[38;5;66;03m# Binary mode does not support 'encoding' and 'newline'.\u001b[39;00m\n\u001b[0;32m    854\u001b[0m     \u001b[38;5;28;01mif\u001b[39;00m ioargs\u001b[38;5;241m.\u001b[39mencoding \u001b[38;5;129;01mand\u001b[39;00m \u001b[38;5;124m\"\u001b[39m\u001b[38;5;124mb\u001b[39m\u001b[38;5;124m\"\u001b[39m \u001b[38;5;129;01mnot\u001b[39;00m \u001b[38;5;129;01min\u001b[39;00m ioargs\u001b[38;5;241m.\u001b[39mmode:\n\u001b[0;32m    855\u001b[0m         \u001b[38;5;66;03m# Encoding\u001b[39;00m\n\u001b[1;32m--> 856\u001b[0m         handle \u001b[38;5;241m=\u001b[39m \u001b[38;5;28mopen\u001b[39m(\n\u001b[0;32m    857\u001b[0m             handle,\n\u001b[0;32m    858\u001b[0m             ioargs\u001b[38;5;241m.\u001b[39mmode,\n\u001b[0;32m    859\u001b[0m             encoding\u001b[38;5;241m=\u001b[39mioargs\u001b[38;5;241m.\u001b[39mencoding,\n\u001b[0;32m    860\u001b[0m             errors\u001b[38;5;241m=\u001b[39merrors,\n\u001b[0;32m    861\u001b[0m             newline\u001b[38;5;241m=\u001b[39m\u001b[38;5;124m\"\u001b[39m\u001b[38;5;124m\"\u001b[39m,\n\u001b[0;32m    862\u001b[0m         )\n\u001b[0;32m    863\u001b[0m     \u001b[38;5;28;01melse\u001b[39;00m:\n\u001b[0;32m    864\u001b[0m         \u001b[38;5;66;03m# Binary mode\u001b[39;00m\n\u001b[0;32m    865\u001b[0m         handle \u001b[38;5;241m=\u001b[39m \u001b[38;5;28mopen\u001b[39m(handle, ioargs\u001b[38;5;241m.\u001b[39mmode)\n",
      "\u001b[1;31mPermissionError\u001b[0m: [Errno 13] Permission denied: './degruyter_oup_dfs_20.csv'"
     ]
    }
   ],
   "source": [
    "degruyter_oup_dfs_20.to_csv(\"./degruyter_oup_dfs_20.csv\")"
   ]
  },
  {
   "cell_type": "code",
   "execution_count": 96,
   "id": "574ef1e4",
   "metadata": {},
   "outputs": [],
   "source": [
    "#Combine above to allpubs_2020\n",
    "\n",
    "all_ebooks_20 = pd.read_csv(\"./allpubs_ebooks_2020.csv\", low_memory = False)"
   ]
  },
  {
   "cell_type": "code",
   "execution_count": 97,
   "id": "37f266c0",
   "metadata": {},
   "outputs": [],
   "source": [
    "all_pubs_ebooks_20_final_df = [all_ebooks_20,degruyter_oup_dfs_20]\n",
    "\n",
    "all_pubs_ebooks_20_final  = pd.concat(all_pubs_ebooks_20_final_df)\n",
    "\n",
    "all_pubs_ebooks_20_final.fillna(0, inplace = True)"
   ]
  },
  {
   "cell_type": "code",
   "execution_count": 98,
   "id": "72b39e04",
   "metadata": {},
   "outputs": [
    {
     "data": {
      "text/plain": [
       "Index(['Title', 'Publisher', 'Publisher_ID', 'Platform', 'DOI',\n",
       "       'Proprietary_ID', 'ISBN', 'Print_ISSN', 'Online_ISSN', 'URI', 'YOP',\n",
       "       'Access_Type', 'Metric_Type', 'Reporting_Period_Total',\n",
       "       '2020-01-01 00:00:00', '2020-02-01 00:00:00', '2020-03-01 00:00:00',\n",
       "       '2020-04-01 00:00:00', '2020-05-01 00:00:00', '2020-06-01 00:00:00',\n",
       "       '2020-07-01 00:00:00', '2020-08-01 00:00:00', '2020-09-01 00:00:00',\n",
       "       '2020-10-01 00:00:00', '2020-11-01 00:00:00', '2020-12-01 00:00:00'],\n",
       "      dtype='object')"
      ]
     },
     "execution_count": 98,
     "metadata": {},
     "output_type": "execute_result"
    }
   ],
   "source": [
    "degruyter_oup_dfs_20.columns"
   ]
  },
  {
   "cell_type": "code",
   "execution_count": 99,
   "id": "eb387e22",
   "metadata": {},
   "outputs": [],
   "source": [
    "all_pubs_ebooks_20_final.to_csv(\"./all_pubs_ebooks_20_final.csv\")"
   ]
  },
  {
   "cell_type": "markdown",
   "id": "3b8ee500",
   "metadata": {},
   "source": [
    "# 2019 Title Master Reports"
   ]
  },
  {
   "cell_type": "code",
   "execution_count": 63,
   "id": "bea50056",
   "metadata": {},
   "outputs": [],
   "source": [
    "cambridge_19 = pd.read_csv(\"./Cambridge/2019/Cambridge Core 2019 Title Master Report TR (R5).csv\", skiprows=range(13), low_memory=False)\n",
    "elsevier_19 = pd.read_csv(\"./Elsevier/2019/ScienceDirect 2019 Title Master Report TR (R5).csv\", skiprows=range(13), low_memory=False)\n",
    "sage_19 = pd.read_csv(\"./Sage/2019/SAGE Journals 2019 Title Master Report TR (R5).csv\", skiprows=range(13), low_memory=False)\n",
    "springer_19 = pd.read_csv(\"./SpringerNature/2019/SpringerLink 2019 Title Master Report TR (R5).csv\", low_memory=False)\n",
    "nature_19 = pd.read_csv(\"./SpringerNature/2019/nature.com 2019 Title Master Report (R5).csv\", skiprows=range(13), low_memory=False)\n",
    "tnf_19 = pd.read_csv(\"./Taylor & Francis/2019/Taylor & Francis Online 2019 Title Master Report TR (R5).csv\", low_memory=False)\n",
    "wiley_19 = pd.read_csv(\"./Wiley/2019/Wiley Online Library 2019 Title Master Report TR (R5).csv\", skiprows=range(13), low_memory=False)\n"
   ]
  },
  {
   "cell_type": "code",
   "execution_count": 64,
   "id": "55c7e280",
   "metadata": {},
   "outputs": [],
   "source": [
    "cambridge_19_df = cambridge_19.loc[cambridge_19[\"Data_Type\"] == \"Journal\"]\n",
    "elsevier_19_df = elsevier_19.loc[elsevier_19[\"Data_Type\"] == \"Journal\"]\n",
    "nature_19_df = nature_19.loc[nature_19[\"Data_Type\"] == \"Journal\"]\n",
    "sage_19_df = sage_19.loc[sage_19[\"Data_Type\"] == \"Journal\"]\n",
    "springer_19_df = springer_19.loc[springer_19[\"Data_Type\"] == \"Journal\"]\n",
    "tnf_19_df = tnf_19.loc[tnf_19[\"Data_Type\"] == \"Journal\"]\n",
    "wiley_19_df = wiley_19[wiley_19[\"Data_Type\"] == \"Journal\"]"
   ]
  },
  {
   "cell_type": "code",
   "execution_count": 65,
   "id": "2aa617ab",
   "metadata": {},
   "outputs": [],
   "source": [
    "cambridge_19_df2 = cambridge_19_df.loc[((cambridge_19_df['Metric_Type'] == 'Total_Item_Requests') | (cambridge_19_df['Metric_Type'] == 'Unique_Item_Requests'))]\n",
    "elsevier_19_df2 = elsevier_19_df.loc[((elsevier_19_df['Metric_Type'] == 'Total_Item_Requests') | (elsevier_19_df['Metric_Type'] == 'Unique_Item_Requests'))]\n",
    "nature_19_df2 = nature_19_df.loc[((nature_19_df['Metric_Type'] == 'Total_Item_Requests') | (nature_19_df['Metric_Type'] == 'Unique_Item_Requests'))]\n",
    "sage_19_df2 = sage_19_df.loc[((sage_19_df['Metric_Type'] == 'Total_Item_Requests') | (sage_19_df['Metric_Type'] == 'Unique_Item_Requests'))]\n",
    "springer_19_df2 = springer_19_df.loc[((springer_19_df['Metric_Type'] == 'Total_Item_Requests') | (springer_19_df['Metric_Type'] == 'Unique_Item_Requests'))]\n",
    "tnf_19_df2 = tnf_19_df.loc[((tnf_19_df['Metric_Type'] == 'Total_Item_Requests') | (tnf_19_df['Metric_Type'] == 'Unique_Item_Requests'))]\n",
    "wiley_19_df2 = wiley_19_df.loc[((wiley_19_df['Metric_Type'] == 'Total_Item_Requests') | (wiley_19_df['Metric_Type'] == 'Unique_Item_Requests'))]\n"
   ]
  },
  {
   "cell_type": "code",
   "execution_count": 72,
   "id": "8090254c",
   "metadata": {},
   "outputs": [
    {
     "data": {
      "text/plain": [
       "Index(['Title', 'Publisher', 'Publisher_ID', 'Platform', 'DOI',\n",
       "       'Proprietary_ID', 'ISBN', 'Print_ISSN', 'Online_ISSN', 'URI',\n",
       "       'Data_Type', 'Section_Type', 'YOP', 'Access_Type', 'Access_Method',\n",
       "       'Metric_Type', 'Reporting_Period_Total', '2019-01-01 00:00:00',\n",
       "       '2019-02-01 00:00:00', '2019-03-01 00:00:00', '2019-04-01 00:00:00',\n",
       "       '2019-05-01 00:00:00', '2019-06-01 00:00:00', '2019-07-01 00:00:00',\n",
       "       '2019-08-01 00:00:00', '2019-09-01 00:00:00', '2019-10-01 00:00:00',\n",
       "       '2019-11-01 00:00:00', '2019-12-01 00:00:00'],\n",
       "      dtype='object')"
      ]
     },
     "execution_count": 72,
     "metadata": {},
     "output_type": "execute_result"
    }
   ],
   "source": [
    "wiley_19_df2.columns"
   ]
  },
  {
   "cell_type": "code",
   "execution_count": 73,
   "id": "c13b2c47",
   "metadata": {},
   "outputs": [],
   "source": [
    "allpubs_2019_df = [cambridge_19_df2, elsevier_19_df2, sage_19_df2, nature_19_df2, springer_19_df2, tnf_19_df2, wiley_19_df2]\n",
    "\n",
    "allpubs_2019 = pd.concat(allpubs_2019_df)\n",
    "\n",
    "allpubs_2019.fillna(0, inplace = True)"
   ]
  },
  {
   "cell_type": "code",
   "execution_count": 74,
   "id": "57d5071d",
   "metadata": {},
   "outputs": [],
   "source": [
    "allpubs_2019.to_csv(\"./allpubs_2019.csv\")"
   ]
  }
 ],
 "metadata": {
  "kernelspec": {
   "display_name": "Python 3 (ipykernel)",
   "language": "python",
   "name": "python3"
  },
  "language_info": {
   "codemirror_mode": {
    "name": "ipython",
    "version": 3
   },
   "file_extension": ".py",
   "mimetype": "text/x-python",
   "name": "python",
   "nbconvert_exporter": "python",
   "pygments_lexer": "ipython3",
   "version": "3.11.4"
  }
 },
 "nbformat": 4,
 "nbformat_minor": 5
}

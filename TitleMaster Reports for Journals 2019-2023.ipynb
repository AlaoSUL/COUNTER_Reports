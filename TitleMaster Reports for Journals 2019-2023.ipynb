{
 "cells": [
  {
   "cell_type": "code",
   "execution_count": 2,
   "id": "febaa158",
   "metadata": {},
   "outputs": [],
   "source": [
    "import pandas as pd\n",
    "import numpy as np\n",
    "import os"
   ]
  },
  {
   "cell_type": "markdown",
   "id": "a1f701d5",
   "metadata": {},
   "source": [
    "## Important Steps\n",
    "\n",
    "- Ensure publishers are standardized\n",
    "- Dates\n",
    "- Data_Type == Journal\n",
    "- Metric_Type == \"Total_Item_Requests\" or \"Unique_Item_Requests\""
   ]
  },
  {
   "cell_type": "markdown",
   "id": "4e5ae89d",
   "metadata": {},
   "source": [
    "# 2023 Title Master Entire Year"
   ]
  },
  {
   "cell_type": "code",
   "execution_count": 4,
   "id": "99d7a2fc",
   "metadata": {},
   "outputs": [
    {
     "name": "stderr",
     "output_type": "stream",
     "text": [
      "C:\\Users\\aclao89\\AppData\\Local\\Temp\\ipykernel_4680\\3413157804.py:13: DtypeWarning: Columns (7,8) have mixed types. Specify dtype option on import or set low_memory=False.\n",
      "  df = pd.read_csv(file_path, skiprows=range(13))\n",
      "C:\\Users\\aclao89\\AppData\\Local\\Temp\\ipykernel_4680\\3413157804.py:14: FutureWarning: The frame.append method is deprecated and will be removed from pandas in a future version. Use pandas.concat instead.\n",
      "  title_master_2023 = title_master_2023.append(df, ignore_index=True)\n",
      "C:\\Users\\aclao89\\AppData\\Local\\Temp\\ipykernel_4680\\3413157804.py:14: FutureWarning: The frame.append method is deprecated and will be removed from pandas in a future version. Use pandas.concat instead.\n",
      "  title_master_2023 = title_master_2023.append(df, ignore_index=True)\n",
      "C:\\Users\\aclao89\\AppData\\Local\\Temp\\ipykernel_4680\\3413157804.py:14: FutureWarning: The frame.append method is deprecated and will be removed from pandas in a future version. Use pandas.concat instead.\n",
      "  title_master_2023 = title_master_2023.append(df, ignore_index=True)\n",
      "C:\\Users\\aclao89\\AppData\\Local\\Temp\\ipykernel_4680\\3413157804.py:13: DtypeWarning: Columns (6) have mixed types. Specify dtype option on import or set low_memory=False.\n",
      "  df = pd.read_csv(file_path, skiprows=range(13))\n",
      "C:\\Users\\aclao89\\AppData\\Local\\Temp\\ipykernel_4680\\3413157804.py:14: FutureWarning: The frame.append method is deprecated and will be removed from pandas in a future version. Use pandas.concat instead.\n",
      "  title_master_2023 = title_master_2023.append(df, ignore_index=True)\n",
      "C:\\Users\\aclao89\\AppData\\Local\\Temp\\ipykernel_4680\\3413157804.py:13: DtypeWarning: Columns (6) have mixed types. Specify dtype option on import or set low_memory=False.\n",
      "  df = pd.read_csv(file_path, skiprows=range(13))\n",
      "C:\\Users\\aclao89\\AppData\\Local\\Temp\\ipykernel_4680\\3413157804.py:14: FutureWarning: The frame.append method is deprecated and will be removed from pandas in a future version. Use pandas.concat instead.\n",
      "  title_master_2023 = title_master_2023.append(df, ignore_index=True)\n",
      "C:\\Users\\aclao89\\AppData\\Local\\Temp\\ipykernel_4680\\3413157804.py:14: FutureWarning: The frame.append method is deprecated and will be removed from pandas in a future version. Use pandas.concat instead.\n",
      "  title_master_2023 = title_master_2023.append(df, ignore_index=True)\n"
     ]
    },
    {
     "name": "stdout",
     "output_type": "stream",
     "text": [
      "                                                Title  \\\n",
      "0                               Ruling before the Law   \n",
      "1                               Ruling before the Law   \n",
      "2        American Literature in Transition, 2000 2010   \n",
      "3        American Literature in Transition, 2000 2010   \n",
      "4        American Literature in Transition, 2000 2010   \n",
      "...                                               ...   \n",
      "1413341                                    Écoscience   \n",
      "1413342                                    Écoscience   \n",
      "1413343                                   Ñawpa Pacha   \n",
      "1413344                                   Ñawpa Pacha   \n",
      "1413345                                   Ñawpa Pacha   \n",
      "\n",
      "                          Publisher Publisher_ID                 Platform  \\\n",
      "0        Cambridge University Press          NaN           Cambridge Core   \n",
      "1        Cambridge University Press          NaN           Cambridge Core   \n",
      "2        Cambridge University Press          NaN           Cambridge Core   \n",
      "3        Cambridge University Press          NaN           Cambridge Core   \n",
      "4        Cambridge University Press          NaN           Cambridge Core   \n",
      "...                             ...          ...                      ...   \n",
      "1413341            Taylor & Francis  tandf:tandf  Taylor & Francis Online   \n",
      "1413342            Taylor & Francis  tandf:tandf  Taylor & Francis Online   \n",
      "1413343                   Routledge   tandf:rout  Taylor & Francis Online   \n",
      "1413344                   Routledge   tandf:rout  Taylor & Francis Online   \n",
      "1413345                   Routledge   tandf:rout  Taylor & Francis Online   \n",
      "\n",
      "                           DOI Proprietary_ID               ISBN Print_ISSN  \\\n",
      "0        10.1017/9781108551502            NaN  978-1-108-55150-2        NaN   \n",
      "1        10.1017/9781108551502            NaN  978-1-108-55150-2        NaN   \n",
      "2        10.1017/9781316569290            NaN  978-1-316-56929-0        NaN   \n",
      "3        10.1017/9781316569290            NaN  978-1-316-56929-0        NaN   \n",
      "4        10.1017/9781316569290            NaN  978-1-316-56929-0        NaN   \n",
      "...                        ...            ...                ...        ...   \n",
      "1413341         10.1080/teco20   tandf:teco20                NaN  1195-6860   \n",
      "1413342         10.1080/teco20   tandf:teco20                NaN  1195-6860   \n",
      "1413343         10.1080/ynaw20   tandf:ynaw20                NaN  0077-6297   \n",
      "1413344         10.1080/ynaw20   tandf:ynaw20                NaN  0077-6297   \n",
      "1413345         10.1080/ynaw20   tandf:ynaw20                NaN  0077-6297   \n",
      "\n",
      "        Online_ISSN                                    URI  ... 23-May 23-Jun  \\\n",
      "0               NaN  https://doi.org/10.1017/9781108551502  ...    0.0    0.0   \n",
      "1               NaN  https://doi.org/10.1017/9781108551502  ...    0.0    0.0   \n",
      "2               NaN  https://doi.org/10.1017/9781316569290  ...    0.0    0.0   \n",
      "3               NaN  https://doi.org/10.1017/9781316569290  ...    0.0    0.0   \n",
      "4               NaN  https://doi.org/10.1017/9781316569290  ...    0.0    0.0   \n",
      "...             ...                                    ...  ...    ...    ...   \n",
      "1413341   2376-7626                                    NaN  ...    0.0    0.0   \n",
      "1413342   2376-7626                                    NaN  ...    0.0    0.0   \n",
      "1413343   2051-6207                                    NaN  ...    0.0    0.0   \n",
      "1413344   2051-6207                                    NaN  ...    0.0    0.0   \n",
      "1413345   2051-6207                                    NaN  ...    1.0    0.0   \n",
      "\n",
      "         23-Jul 23-Aug 23-Sep 23-Oct  23-Nov  23-Dec  \\\n",
      "0           0.0    0.0    0.0    1.0     0.0     0.0   \n",
      "1           0.0    0.0    0.0    1.0     0.0     0.0   \n",
      "2           0.0    0.0    0.0    0.0     0.0     0.0   \n",
      "3           0.0    0.0    0.0    0.0     0.0     0.0   \n",
      "4           0.0    0.0    0.0    0.0     0.0     0.0   \n",
      "...         ...    ...    ...    ...     ...     ...   \n",
      "1413341     0.0    0.0    0.0    0.0     0.0     0.0   \n",
      "1413342     0.0    0.0    0.0    0.0     0.0     0.0   \n",
      "1413343     0.0    0.0    0.0    0.0     0.0     0.0   \n",
      "1413344     0.0    0.0    0.0    0.0     0.0     0.0   \n",
      "1413345     0.0    0.0    0.0    0.0     0.0     0.0   \n",
      "\n",
      "                      Institution_Name  Customer_ID  \n",
      "0                                  NaN          NaN  \n",
      "1                                  NaN          NaN  \n",
      "2                                  NaN          NaN  \n",
      "3                                  NaN          NaN  \n",
      "4                                  NaN          NaN  \n",
      "...                                ...          ...  \n",
      "1413341  Stanford University (holding)          NaN  \n",
      "1413342  Stanford University (holding)          NaN  \n",
      "1413343  Stanford University (holding)          NaN  \n",
      "1413344  Stanford University (holding)          NaN  \n",
      "1413345  Stanford University (holding)          NaN  \n",
      "\n",
      "[1413346 rows x 31 columns]\n"
     ]
    }
   ],
   "source": [
    "# Set the path to your folder containing CSV files\n",
    "folder_path = './Title Master Reports 2023 - All Publishers/Journals'\n",
    "\n",
    "# Get a list of all CSV files in the folder\n",
    "csv_files = [f for f in os.listdir(folder_path) if f.endswith('.csv')]\n",
    "\n",
    "# Create an empty DataFrame to store the combined data\n",
    "title_master_2023 = pd.DataFrame()\n",
    "\n",
    "# Loop through each CSV file and append its data to the combined DataFrame\n",
    "for file in csv_files:\n",
    "    file_path = os.path.join(folder_path, file)\n",
    "    df = pd.read_csv(file_path, skiprows=range(13))\n",
    "    title_master_2023 = title_master_2023.append(df, ignore_index=True)\n",
    "\n",
    "# Display the combined DataFrame\n",
    "print(title_master_2023)"
   ]
  },
  {
   "cell_type": "code",
   "execution_count": 6,
   "id": "eca1b17f",
   "metadata": {},
   "outputs": [],
   "source": [
    "title_master_ebooks_2023 = title_master_2023.loc[title_master_2023[\"Data_Type\"] == \"Journal\"]"
   ]
  },
  {
   "cell_type": "code",
   "execution_count": 8,
   "id": "d64b68df",
   "metadata": {},
   "outputs": [
    {
     "data": {
      "text/plain": [
       "(794546, 31)"
      ]
     },
     "execution_count": 8,
     "metadata": {},
     "output_type": "execute_result"
    }
   ],
   "source": [
    "title_master_ebooks_2023.shape"
   ]
  },
  {
   "cell_type": "code",
   "execution_count": 10,
   "id": "6e0099ef",
   "metadata": {},
   "outputs": [],
   "source": [
    "title_master_ebooks_2023_df2 = title_master_ebooks_2023.loc[((title_master_ebooks_2023['Metric_Type'] == 'Total_Item_Requests') | (title_master_ebooks_2023['Metric_Type'] == 'Unique_Item_Requests'))]\n"
   ]
  },
  {
   "cell_type": "code",
   "execution_count": 13,
   "id": "9eb44aae",
   "metadata": {},
   "outputs": [],
   "source": [
    "title_master_ebooks_2023_df2.to_csv(\"./Title Master Reports 2023 - All Publishers/Journals/title_master_ebooks_2023_full.csv\")"
   ]
  },
  {
   "cell_type": "markdown",
   "id": "a27c8379",
   "metadata": {},
   "source": [
    "# 2023 Title Master Q1-Q3"
   ]
  },
  {
   "cell_type": "code",
   "execution_count": 15,
   "id": "c3b70eb3",
   "metadata": {},
   "outputs": [],
   "source": [
    "cambridge_23 = pd.read_csv(\"./Cambridge/2023/Cambridge Core 2023 Title Master.csv\", skiprows=range(13), low_memory=False)\n",
    "elsevier_23 = pd.read_csv(\"./Elsevier/2023/ScienceDirect 2023 Title Master.csv\", skiprows=range(13), low_memory=False)\n",
    "nature_23 = pd.read_csv(\"./SpringerNature/2023/nature.com 2023 Jan-Oct Title Master Report TR (R5).csv\" ,skiprows=range(13), low_memory=False)\n",
    "sage_23 = pd.read_csv(\"./Sage/2023/SAGE Journals 2023 Title Master.csv\", skiprows=range(13), low_memory=False)\n",
    "springer_23 = pd.read_csv(\"./SpringerNature/2023/SpringerLink 2023 Jan-Oct Title Master Report TR (R5).csv\" ,skiprows=range(13), low_memory=False)\n",
    "tnf_23 = pd.read_csv(\"./Taylor & Francis/2023/Taylor & Francis Online 2023 Title Master.csv\", skiprows=range(13), low_memory=False)\n",
    "wiley_23 = pd.read_csv(\"./Wiley/2023/Wiley Online Library 2023 Title Master Jan-Oct (R5).csv\", skiprows=range(13), low_memory=False)\n",
    "\n"
   ]
  },
  {
   "cell_type": "code",
   "execution_count": 16,
   "id": "2c2628e6",
   "metadata": {},
   "outputs": [],
   "source": [
    "cambridge_23_df = cambridge_23.loc[cambridge_23[\"Data_Type\"] == \"Journal\"]\n",
    "elsevier_23_df = elsevier_23.loc[elsevier_23[\"Data_Type\"] == \"Journal\"]\n",
    "nature_23_df = nature_23.loc[nature_23[\"Data_Type\"] == \"Journal\"]\n",
    "sage_23_df = sage_23.loc[sage_23[\"Data_Type\"] == \"Journal\"]\n",
    "springer_23_df = springer_23.loc[springer_23[\"Data_Type\"] == \"Journal\"]\n",
    "tnf_23_df = tnf_23.loc[tnf_23[\"Data_Type\"] == \"Journal\"]\n",
    "wiley_23_df = wiley_23.loc[wiley_23[\"Data_Type\"] == \"Journal\"]"
   ]
  },
  {
   "cell_type": "code",
   "execution_count": 24,
   "id": "11bdcf55",
   "metadata": {},
   "outputs": [
    {
     "data": {
      "text/plain": [
       "(2926, 27)"
      ]
     },
     "execution_count": 24,
     "metadata": {},
     "output_type": "execute_result"
    }
   ],
   "source": [
    "cambridge_23_df.shape"
   ]
  },
  {
   "cell_type": "code",
   "execution_count": 27,
   "id": "1e6f327e",
   "metadata": {},
   "outputs": [],
   "source": [
    "cambridge_23_df2 = cambridge_23_df.loc[((cambridge_23_df['Metric_Type'] == 'Total_Item_Requests') | (cambridge_23_df['Metric_Type'] == 'Unique_Item_Requests'))]\n",
    "elsevier_23_df2 = elsevier_23_df.loc[((elsevier_23_df['Metric_Type'] == 'Total_Item_Requests') | (elsevier_23_df['Metric_Type'] == 'Unique_Item_Requests'))]\n",
    "nature_23_df2 = nature_23_df.loc[((nature_23_df['Metric_Type'] == 'Total_Item_Requests') | (nature_23_df['Metric_Type'] == 'Unique_Item_Requests'))]\n",
    "sage_23_df2 = sage_23_df.loc[((sage_23_df['Metric_Type'] == 'Total_Item_Requests') | (sage_23_df['Metric_Type'] == 'Unique_Item_Requests'))]\n",
    "springer_23_df2 = springer_23_df.loc[((springer_23_df['Metric_Type'] == 'Total_Item_Requests') | (springer_23_df['Metric_Type'] == 'Unique_Item_Requests'))]\n",
    "tnf_23_df2 = tnf_23_df.loc[((tnf_23_df['Metric_Type'] == 'Total_Item_Requests') | (tnf_23_df['Metric_Type'] == 'Unique_Item_Requests'))]\n",
    "wiley_23_df2 = wiley_23_df.loc[((wiley_23_df['Metric_Type'] == 'Total_Item_Requests') | (wiley_23_df['Metric_Type'] == 'Unique_Item_Requests'))]\n",
    "\n",
    "\n"
   ]
  },
  {
   "cell_type": "code",
   "execution_count": 28,
   "id": "68fc5340",
   "metadata": {},
   "outputs": [],
   "source": [
    "allpubs_2023_df = [cambridge_23_df2, elsevier_23_df2, sage_23_df2, nature_23_df2, springer_23_df2, tnf_23_df2, wiley_23_df2]\n",
    "\n",
    "allpubs_2023 = pd.concat(allpubs_2023_df)\n",
    "\n",
    "allpubs_2023.fillna(0, inplace = True)"
   ]
  },
  {
   "cell_type": "code",
   "execution_count": 29,
   "id": "67b19b5b",
   "metadata": {},
   "outputs": [],
   "source": [
    "allpubs_2023.to_csv(\"./allpubs_2023.csv\")"
   ]
  },
  {
   "cell_type": "markdown",
   "id": "68a642fd",
   "metadata": {},
   "source": [
    "#  2022 Title Master"
   ]
  },
  {
   "cell_type": "code",
   "execution_count": 92,
   "id": "d3139905",
   "metadata": {},
   "outputs": [],
   "source": [
    "cambridge_22 = pd.read_csv(\"./Cambridge/2022/Cambridge Core 2022 Title Master Report TR (R5).csv\", skiprows=range(13), low_memory=False)\n",
    "elsevier_22 = pd.read_csv(\"./Elsevier/2022/ScienceDirect 2022 Title Master Report TR (R5).csv\", skiprows=range(13), low_memory=False)\n",
    "sage_22 = pd.read_csv(\"./Sage/2022/SAGE Journals 2022 Title Master Report TR (R5).csv\", skiprows=range(13), low_memory=False)\n",
    "springer_22 = pd.read_csv(\"./SpringerNature/2022/SpringerLink 2022 Title Master Report TR (R5).csv\", skiprows=range(13), low_memory=False)\n",
    "nature_22 = pd.read_csv(\"./SpringerNature/2022/nature.com 2022 Title Master Report TR (R5).csv\", skiprows=range(13), low_memory=False)\n",
    "tnf_22 = pd.read_csv(\"./Taylor & Francis/2022/Taylor & Francis Online 2022 Title Master Report TR (R5).csv\", skiprows=range(13), low_memory=False)\n",
    "wiley_22 = pd.read_csv(\"./Wiley/2022/Wiley Online Library 2022 Title Master Report TR (R5).csv\", skiprows=range(13), low_memory=False)\n"
   ]
  },
  {
   "cell_type": "code",
   "execution_count": 93,
   "id": "db2d430f",
   "metadata": {},
   "outputs": [
    {
     "data": {
      "text/plain": [
       "Index(['Institution_Name', 'Customer_ID', 'Title', 'Publisher', 'Publisher_ID',\n",
       "       'Platform', 'DOI', 'Proprietary_ID', 'ISBN', 'Print_ISSN',\n",
       "       'Online_ISSN', 'URI', 'Data_Type', 'Section_Type', 'YOP', 'Access_Type',\n",
       "       'Access_Method', 'Metric_Type', 'Reporting_Period_Total',\n",
       "       '2022-01-01 00:00:00', '2022-02-01 00:00:00', '2022-03-01 00:00:00',\n",
       "       '2022-04-01 00:00:00', '2022-05-01 00:00:00', '2022-06-01 00:00:00',\n",
       "       '2022-07-01 00:00:00', '2022-08-01 00:00:00', '2022-09-01 00:00:00',\n",
       "       '2022-10-01 00:00:00', '2022-11-01 00:00:00', '2022-12-01 00:00:00'],\n",
       "      dtype='object')"
      ]
     },
     "execution_count": 93,
     "metadata": {},
     "output_type": "execute_result"
    }
   ],
   "source": [
    "wiley_22.columns"
   ]
  },
  {
   "cell_type": "code",
   "execution_count": 94,
   "id": "1f511ffc",
   "metadata": {},
   "outputs": [],
   "source": [
    "cambridge_22_df = cambridge_22.loc[cambridge_22[\"Data_Type\"] == \"Journal\"]\n",
    "elsevier_22_df = elsevier_22.loc[elsevier_22[\"Data_Type\"] == \"Journal\"]\n",
    "nature_22_df = nature_22.loc[nature_22[\"Data_Type\"] == \"Journal\"]\n",
    "sage_22_df = sage_22.loc[sage_22[\"Data_Type\"] == \"Journal\"]\n",
    "springer_22_df = springer_22.loc[springer_22[\"Data_Type\"] == \"Journal\"]\n",
    "tnf_22_df = tnf_22.loc[tnf_22[\"Data_Type\"] == \"Journal\"]\n",
    "wiley_22_df = wiley_22.loc[wiley_22['Data_Type'] == \"Journal\"]"
   ]
  },
  {
   "cell_type": "code",
   "execution_count": 101,
   "id": "845a6f3f",
   "metadata": {},
   "outputs": [],
   "source": [
    "cambridge_22_df2 = cambridge_22_df.loc[((cambridge_22_df['Metric_Type'] == 'Total_Item_Requests') | (cambridge_22_df['Metric_Type'] == 'Unique_Item_Requests'))]\n",
    "elsevier_22_df2 = elsevier_22_df.loc[((elsevier_22_df['Metric_Type'] == 'Total_Item_Requests') | (elsevier_22_df['Metric_Type'] == 'Unique_Item_Requests'))]\n",
    "nature_22_df2 = nature_22_df.loc[((nature_22_df['Metric_Type'] == 'Total_Item_Requests') | (nature_22_df['Metric_Type'] == 'Unique_Item_Requests'))]\n",
    "sage_22_df2 = sage_22_df.loc[((sage_22_df['Metric_Type'] == 'Total_Item_Requests') | (sage_22_df['Metric_Type'] == 'Unique_Item_Requests'))]\n",
    "springer_22_df2 = springer_22_df.loc[((springer_22_df['Metric_Type'] == 'Total_Item_Requests') | (springer_22_df['Metric_Type'] == 'Unique_Item_Requests'))]\n",
    "tnf_22_df2 = tnf_22_df.loc[((tnf_22_df['Metric_Type'] == 'Total_Item_Requests') | (tnf_22_df['Metric_Type'] == 'Unique_Item_Requests'))]\n",
    "wiley_22_df2 = wiley_22_df.loc[((wiley_22_df['Metric_Type'] == 'Total_Item_Requests') | (wiley_22_df['Metric_Type'] == 'Unique_Item_Requests'))]\n"
   ]
  },
  {
   "cell_type": "code",
   "execution_count": 102,
   "id": "b4cde7ba",
   "metadata": {},
   "outputs": [],
   "source": [
    "allpubs_2022_df = [cambridge_22_df2, elsevier_22_df2, sage_22_df2, nature_22_df2, springer_22_df2, tnf_22_df2, wiley_22_df2]\n",
    "\n",
    "allpubs_2022 = pd.concat(allpubs_2022_df)\n",
    "\n",
    "allpubs_2022.fillna(0, inplace = True)"
   ]
  },
  {
   "cell_type": "code",
   "execution_count": 103,
   "id": "3432af8e",
   "metadata": {},
   "outputs": [],
   "source": [
    "allpubs_2022.to_csv(\"./allpubs_2022.csv\")"
   ]
  },
  {
   "cell_type": "markdown",
   "id": "74b34c6c",
   "metadata": {},
   "source": [
    "# 2021 Title Master"
   ]
  },
  {
   "cell_type": "code",
   "execution_count": 64,
   "id": "ebc6e04b",
   "metadata": {},
   "outputs": [],
   "source": [
    "cambridge_21 = pd.read_csv(\"./Cambridge/2021/Cambridge Core 2021 Title Master Report TR (R5).csv\", skiprows=range(13), low_memory=False)\n",
    "elsevier_21 = pd.read_csv(\"./Elsevier/2021/ScienceDirect 2021 Title Master Report TR (R5).csv\", skiprows=range(13), low_memory=False)\n",
    "sage_21 = pd.read_csv(\"./Sage/2021/SAGE Journals 2021 Title Master Report (R5).csv\", skiprows=range(13), low_memory=False)\n",
    "springer_21 = pd.read_csv(\"./SpringerNature/2021/SpringerLink 2021 Title Master Report TR (R5).csv\", skiprows=range(13), low_memory=False)\n",
    "nature_21 = pd.read_csv(\"./SpringerNature/2021/nature.com 2021 Title Master Report (R5).csv\", skiprows=range(13), low_memory=False)\n",
    "tnf_21 = pd.read_csv(\"./Taylor & Francis/2021/Taylor & Francis Online/Taylor & Francis Online 2021 Title Master Report TR (R5).csv\", skiprows=range(13), low_memory=False)\n",
    "wiley_21 = pd.read_csv(\"./Wiley/2021/Wiley Online Library 2021 Title Master Report TR (R5).csv\", skiprows=range(13), low_memory=False)\n"
   ]
  },
  {
   "cell_type": "code",
   "execution_count": 65,
   "id": "ec759b44",
   "metadata": {},
   "outputs": [
    {
     "data": {
      "text/plain": [
       "Index(['Title', 'Publisher', 'Publisher_ID', 'Platform', 'DOI',\n",
       "       'Proprietary_ID', 'ISBN', 'Print_ISSN', 'Online_ISSN', 'URI',\n",
       "       'Data_Type', 'Section_Type', 'YOP', 'Access_Type', 'Access_Method',\n",
       "       'Metric_Type', 'Reporting_Period_Total', '2021-01-01 00:00:00',\n",
       "       '2021-02-01 00:00:00', '2021-03-01 00:00:00', '2021-04-01 00:00:00',\n",
       "       '2021-05-01 00:00:00', '2021-06-01 00:00:00', '2021-07-01 00:00:00',\n",
       "       '2021-08-01 00:00:00', '2021-09-01 00:00:00', '2021-10-01 00:00:00',\n",
       "       '2021-11-01 00:00:00', '2021-12-01 00:00:00'],\n",
       "      dtype='object')"
      ]
     },
     "execution_count": 65,
     "metadata": {},
     "output_type": "execute_result"
    }
   ],
   "source": [
    "wiley_21.columns"
   ]
  },
  {
   "cell_type": "code",
   "execution_count": 66,
   "id": "99ef122f",
   "metadata": {},
   "outputs": [],
   "source": [
    "cambridge_21_df = cambridge_21.loc[cambridge_21[\"Data_Type\"] == \"Journal\"]\n",
    "elsevier_21_df = elsevier_21.loc[elsevier_21[\"Data_Type\"] == \"Journal\"]\n",
    "nature_21_df = nature_21.loc[nature_21[\"Data_Type\"] == \"Journal\"]\n",
    "sage_21_df = sage_21.loc[sage_21[\"Data_Type\"] == \"Journal\"]\n",
    "springer_21_df = springer_21.loc[springer_21[\"Data_Type\"] == \"Journal\"]\n",
    "tnf_21_df = tnf_21.loc[tnf_21[\"Data_Type\"] == \"Journal\"]\n",
    "wiley_21_df = wiley_21[wiley_21[\"Data_Type\"] == \"Journal\"]"
   ]
  },
  {
   "cell_type": "code",
   "execution_count": 67,
   "id": "8a260174",
   "metadata": {},
   "outputs": [],
   "source": [
    "cambridge_21_df2 = cambridge_21_df.loc[((cambridge_21_df['Metric_Type'] == 'Total_Item_Requests') | (cambridge_21_df['Metric_Type'] == 'Unique_Item_Requests'))]\n",
    "elsevier_21_df2 = elsevier_21_df.loc[((elsevier_21_df['Metric_Type'] == 'Total_Item_Requests') | (elsevier_21_df['Metric_Type'] == 'Unique_Item_Requests'))]\n",
    "nature_21_df2 = nature_21_df.loc[((nature_21_df['Metric_Type'] == 'Total_Item_Requests') | (nature_21_df['Metric_Type'] == 'Unique_Item_Requests'))]\n",
    "sage_21_df2 = sage_21_df.loc[((sage_21_df['Metric_Type'] == 'Total_Item_Requests') | (sage_21_df['Metric_Type'] == 'Unique_Item_Requests'))]\n",
    "springer_21_df2 = springer_21_df.loc[((springer_21_df['Metric_Type'] == 'Total_Item_Requests') | (springer_21_df['Metric_Type'] == 'Unique_Item_Requests'))]\n",
    "tnf_21_df2 = tnf_21_df.loc[((tnf_21_df['Metric_Type'] == 'Total_Item_Requests') | (tnf_21_df['Metric_Type'] == 'Unique_Item_Requests'))]\n",
    "wiley_21_df2 = wiley_21_df.loc[((wiley_21_df['Metric_Type'] == 'Total_Item_Requests') | (wiley_21_df['Metric_Type'] == 'Unique_Item_Requests'))]\n"
   ]
  },
  {
   "cell_type": "code",
   "execution_count": 68,
   "id": "66a62062",
   "metadata": {},
   "outputs": [],
   "source": [
    "allpubs_2021_df = [cambridge_21_df2, elsevier_21_df2, sage_21_df2, nature_21_df2, springer_21_df2, tnf_21_df2, wiley_21_df2]\n",
    "\n",
    "allpubs_2021 = pd.concat(allpubs_2021_df)\n",
    "\n",
    "allpubs_2021.fillna(0, inplace = True)"
   ]
  },
  {
   "cell_type": "code",
   "execution_count": 70,
   "id": "20bda48f",
   "metadata": {},
   "outputs": [],
   "source": [
    "allpubs_2021.to_csv(\"./allpubs_2021.csv\")"
   ]
  },
  {
   "cell_type": "markdown",
   "id": "9a4f1b39",
   "metadata": {},
   "source": [
    "# 2020 Title Master "
   ]
  },
  {
   "cell_type": "code",
   "execution_count": 76,
   "id": "dbdb3542",
   "metadata": {},
   "outputs": [],
   "source": [
    "cambridge_20 = pd.read_csv(\"./Cambridge/2020/Cambridge Core 2020 Title Master Report TR (R5).csv\", skiprows=range(13), low_memory=False)\n",
    "elsevier_20 = pd.read_csv(\"./Elsevier/2020/ScienceDirect 2020 Title Master Report TR (R5).csv\", skiprows=range(13), low_memory=False)\n",
    "sage_20 = pd.read_csv(\"./Sage/2020/SAGE Journals 2020 Title Master Report TR (R5).csv\", low_memory=False)\n",
    "springer_20 = pd.read_csv(\"./SpringerNature/2020/SpringerLink 2020 Title Master TR (R5).csv\", skiprows=range(13), low_memory=False)\n",
    "nature_20 = pd.read_csv(\"./SpringerNature/2020/nature.com 2020 Title Master Report.csv\", skiprows=range(13), low_memory=False)\n",
    "tnf_20 = pd.read_csv(\"./Taylor & Francis/2020/Taylor & Francis Online/Taylor & Francis Online 2020 Title Master Report TR (R5).csv\", skiprows=range(13), low_memory=False)\n",
    "wiley_20 = pd.read_csv(\"./Wiley/2020/Wiley Online Library 2020 Title Master Report TR (R5).csv\", skiprows=range(13), low_memory=False)\n"
   ]
  },
  {
   "cell_type": "code",
   "execution_count": 77,
   "id": "bd1bb32d",
   "metadata": {},
   "outputs": [],
   "source": [
    "cambridge_20_df = cambridge_20.loc[cambridge_20[\"Data_Type\"] == \"Journal\"]\n",
    "elsevier_20_df = elsevier_20.loc[elsevier_20[\"Data_Type\"] == \"Journal\"]\n",
    "nature_20_df = nature_20.loc[nature_20[\"Data_Type\"] == \"Journal\"]\n",
    "sage_20_df = sage_20.loc[sage_20[\"Data_Type\"] == \"Journal\"]\n",
    "springer_20_df = springer_20.loc[springer_20[\"Data_Type\"] == \"Journal\"]\n",
    "tnf_20_df = tnf_20.loc[tnf_20[\"Data_Type\"] == \"Journal\"]\n",
    "wiley_20_df = wiley_20[wiley_20[\"Data_Type\"] == \"Journal\"]"
   ]
  },
  {
   "cell_type": "code",
   "execution_count": 78,
   "id": "f1367590",
   "metadata": {},
   "outputs": [],
   "source": [
    "cambridge_20_df2 = cambridge_20_df.loc[((cambridge_20_df['Metric_Type'] == 'Total_Item_Requests') | (cambridge_20_df['Metric_Type'] == 'Unique_Item_Requests'))]\n",
    "elsevier_20_df2 = elsevier_20_df.loc[((elsevier_20_df['Metric_Type'] == 'Total_Item_Requests') | (elsevier_20_df['Metric_Type'] == 'Unique_Item_Requests'))]\n",
    "nature_20_df2 = nature_20_df.loc[((nature_20_df['Metric_Type'] == 'Total_Item_Requests') | (nature_20_df['Metric_Type'] == 'Unique_Item_Requests'))]\n",
    "sage_20_df2 = sage_20_df.loc[((sage_20_df['Metric_Type'] == 'Total_Item_Requests') | (sage_20_df['Metric_Type'] == 'Unique_Item_Requests'))]\n",
    "springer_20_df2 = springer_20_df.loc[((springer_20_df['Metric_Type'] == 'Total_Item_Requests') | (springer_20_df['Metric_Type'] == 'Unique_Item_Requests'))]\n",
    "tnf_20_df2 = tnf_20_df.loc[((tnf_20_df['Metric_Type'] == 'Total_Item_Requests') | (tnf_20_df['Metric_Type'] == 'Unique_Item_Requests'))]\n",
    "wiley_20_df2 = wiley_20_df.loc[((wiley_20_df['Metric_Type'] == 'Total_Item_Requests') | (wiley_20_df['Metric_Type'] == 'Unique_Item_Requests'))]\n"
   ]
  },
  {
   "cell_type": "code",
   "execution_count": 79,
   "id": "b41a3b54",
   "metadata": {},
   "outputs": [],
   "source": [
    "allpubs_2020_df = [cambridge_20_df2, elsevier_20_df2, sage_20_df2, nature_20_df2, springer_20_df2, tnf_20_df2, wiley_20_df2]\n",
    "\n",
    "allpubs_2020 = pd.concat(allpubs_2020_df)\n",
    "\n",
    "allpubs_2020.fillna(0, inplace = True)"
   ]
  },
  {
   "cell_type": "code",
   "execution_count": 81,
   "id": "65f2f633",
   "metadata": {},
   "outputs": [],
   "source": [
    "allpubs_2020.to_csv(\"./allpubs_2020.csv\")"
   ]
  },
  {
   "cell_type": "code",
   "execution_count": 105,
   "id": "e5d4b47a",
   "metadata": {},
   "outputs": [],
   "source": [
    "allpubs_2020_2023_df = [allpubs_2020, allpubs_2021, allpubs_2022, allpubs_2023]\n",
    "\n",
    "allpubs_2020_2023 = pd.concat(allpubs_2020_2023_df)\n",
    "\n",
    "allpubs_2020_2023.to_csv(\"./allpubs_2020_2023_df.csv\")"
   ]
  },
  {
   "cell_type": "code",
   "execution_count": null,
   "id": "eb619da8",
   "metadata": {},
   "outputs": [],
   "source": [
    "df = df.drop(df[df['product_name'] == 'Coca Cola'].index)\n"
   ]
  },
  {
   "cell_type": "code",
   "execution_count": 110,
   "id": "e627e75a",
   "metadata": {},
   "outputs": [
    {
     "data": {
      "text/plain": [
       "43221     Article\n",
       "43222     Article\n",
       "43230     Article\n",
       "43231     Article\n",
       "43233     Article\n",
       "           ...   \n",
       "180450    Article\n",
       "180452    Article\n",
       "180454    Article\n",
       "180456    Article\n",
       "180458    Article\n",
       "Name: Section_Type, Length: 443674, dtype: object"
      ]
     },
     "execution_count": 110,
     "metadata": {},
     "output_type": "execute_result"
    }
   ],
   "source": [
    "allpubs_2020[\"Section_Type\"]"
   ]
  },
  {
   "cell_type": "code",
   "execution_count": 112,
   "id": "68c3f5e8",
   "metadata": {},
   "outputs": [],
   "source": [
    "allpubs_2020_final = allpubs_2020.drop(allpubs_2020[allpubs_2020[\"Section_Type\"] == \"Article\"].index)"
   ]
  },
  {
   "cell_type": "code",
   "execution_count": 114,
   "id": "4b3064d4",
   "metadata": {},
   "outputs": [],
   "source": [
    "allpubs_2020_final.to_csv(\"./allpubs_2020_final.csv\")"
   ]
  },
  {
   "cell_type": "markdown",
   "id": "967d4063",
   "metadata": {},
   "source": [
    "# 2019 Title Master Reports"
   ]
  },
  {
   "cell_type": "code",
   "execution_count": 63,
   "id": "fd346234",
   "metadata": {},
   "outputs": [],
   "source": [
    "cambridge_19 = pd.read_csv(\"./Cambridge/2019/Cambridge Core 2019 Title Master Report TR (R5).csv\", skiprows=range(13), low_memory=False)\n",
    "elsevier_19 = pd.read_csv(\"./Elsevier/2019/ScienceDirect 2019 Title Master Report TR (R5).csv\", skiprows=range(13), low_memory=False)\n",
    "sage_19 = pd.read_csv(\"./Sage/2019/SAGE Journals 2019 Title Master Report TR (R5).csv\", skiprows=range(13), low_memory=False)\n",
    "springer_19 = pd.read_csv(\"./SpringerNature/2019/SpringerLink 2019 Title Master Report TR (R5).csv\", low_memory=False)\n",
    "nature_19 = pd.read_csv(\"./SpringerNature/2019/nature.com 2019 Title Master Report (R5).csv\", skiprows=range(13), low_memory=False)\n",
    "tnf_19 = pd.read_csv(\"./Taylor & Francis/2019/Taylor & Francis Online 2019 Title Master Report TR (R5).csv\", low_memory=False)\n",
    "wiley_19 = pd.read_csv(\"./Wiley/2019/Wiley Online Library 2019 Title Master Report TR (R5).csv\", skiprows=range(13), low_memory=False)\n"
   ]
  },
  {
   "cell_type": "code",
   "execution_count": 64,
   "id": "d007827d",
   "metadata": {},
   "outputs": [],
   "source": [
    "cambridge_19_df = cambridge_19.loc[cambridge_19[\"Data_Type\"] == \"Journal\"]\n",
    "elsevier_19_df = elsevier_19.loc[elsevier_19[\"Data_Type\"] == \"Journal\"]\n",
    "nature_19_df = nature_19.loc[nature_19[\"Data_Type\"] == \"Journal\"]\n",
    "sage_19_df = sage_19.loc[sage_19[\"Data_Type\"] == \"Journal\"]\n",
    "springer_19_df = springer_19.loc[springer_19[\"Data_Type\"] == \"Journal\"]\n",
    "tnf_19_df = tnf_19.loc[tnf_19[\"Data_Type\"] == \"Journal\"]\n",
    "wiley_19_df = wiley_19[wiley_19[\"Data_Type\"] == \"Journal\"]"
   ]
  },
  {
   "cell_type": "code",
   "execution_count": 65,
   "id": "7af61322",
   "metadata": {},
   "outputs": [],
   "source": [
    "cambridge_19_df2 = cambridge_19_df.loc[((cambridge_19_df['Metric_Type'] == 'Total_Item_Requests') | (cambridge_19_df['Metric_Type'] == 'Unique_Item_Requests'))]\n",
    "elsevier_19_df2 = elsevier_19_df.loc[((elsevier_19_df['Metric_Type'] == 'Total_Item_Requests') | (elsevier_19_df['Metric_Type'] == 'Unique_Item_Requests'))]\n",
    "nature_19_df2 = nature_19_df.loc[((nature_19_df['Metric_Type'] == 'Total_Item_Requests') | (nature_19_df['Metric_Type'] == 'Unique_Item_Requests'))]\n",
    "sage_19_df2 = sage_19_df.loc[((sage_19_df['Metric_Type'] == 'Total_Item_Requests') | (sage_19_df['Metric_Type'] == 'Unique_Item_Requests'))]\n",
    "springer_19_df2 = springer_19_df.loc[((springer_19_df['Metric_Type'] == 'Total_Item_Requests') | (springer_19_df['Metric_Type'] == 'Unique_Item_Requests'))]\n",
    "tnf_19_df2 = tnf_19_df.loc[((tnf_19_df['Metric_Type'] == 'Total_Item_Requests') | (tnf_19_df['Metric_Type'] == 'Unique_Item_Requests'))]\n",
    "wiley_19_df2 = wiley_19_df.loc[((wiley_19_df['Metric_Type'] == 'Total_Item_Requests') | (wiley_19_df['Metric_Type'] == 'Unique_Item_Requests'))]\n"
   ]
  },
  {
   "cell_type": "code",
   "execution_count": 72,
   "id": "77127bb8",
   "metadata": {},
   "outputs": [
    {
     "data": {
      "text/plain": [
       "Index(['Title', 'Publisher', 'Publisher_ID', 'Platform', 'DOI',\n",
       "       'Proprietary_ID', 'ISBN', 'Print_ISSN', 'Online_ISSN', 'URI',\n",
       "       'Data_Type', 'Section_Type', 'YOP', 'Access_Type', 'Access_Method',\n",
       "       'Metric_Type', 'Reporting_Period_Total', '2019-01-01 00:00:00',\n",
       "       '2019-02-01 00:00:00', '2019-03-01 00:00:00', '2019-04-01 00:00:00',\n",
       "       '2019-05-01 00:00:00', '2019-06-01 00:00:00', '2019-07-01 00:00:00',\n",
       "       '2019-08-01 00:00:00', '2019-09-01 00:00:00', '2019-10-01 00:00:00',\n",
       "       '2019-11-01 00:00:00', '2019-12-01 00:00:00'],\n",
       "      dtype='object')"
      ]
     },
     "execution_count": 72,
     "metadata": {},
     "output_type": "execute_result"
    }
   ],
   "source": [
    "wiley_19_df2.columns"
   ]
  },
  {
   "cell_type": "code",
   "execution_count": 73,
   "id": "a4f0b347",
   "metadata": {},
   "outputs": [],
   "source": [
    "allpubs_2019_df = [cambridge_19_df2, elsevier_19_df2, sage_19_df2, nature_19_df2, springer_19_df2, tnf_19_df2, wiley_19_df2]\n",
    "\n",
    "allpubs_2019 = pd.concat(allpubs_2019_df)\n",
    "\n",
    "allpubs_2019.fillna(0, inplace = True)"
   ]
  },
  {
   "cell_type": "code",
   "execution_count": 74,
   "id": "f98825cf",
   "metadata": {},
   "outputs": [],
   "source": [
    "allpubs_2019.to_csv(\"./allpubs_2019.csv\")"
   ]
  }
 ],
 "metadata": {
  "kernelspec": {
   "display_name": "Python 3 (ipykernel)",
   "language": "python",
   "name": "python3"
  },
  "language_info": {
   "codemirror_mode": {
    "name": "ipython",
    "version": 3
   },
   "file_extension": ".py",
   "mimetype": "text/x-python",
   "name": "python",
   "nbconvert_exporter": "python",
   "pygments_lexer": "ipython3",
   "version": "3.11.4"
  }
 },
 "nbformat": 4,
 "nbformat_minor": 5
}
